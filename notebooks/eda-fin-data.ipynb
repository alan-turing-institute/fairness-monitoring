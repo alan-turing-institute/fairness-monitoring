{
 "cells": [
  {
   "cell_type": "markdown",
   "metadata": {},
   "source": [
    "# Explore the finance-related text datasets\n",
    "\n",
    "These datasets includes financial data in the text format to fine-tune language model for specific financial understanding tasks.\n",
    "\n",
    "1. [Financial Reports SEC](#Financial-Reports-SEC)\n",
    "2. [Financial PhraseBank](#Financial-Phrasebank)\n",
    "3. [AStock](#astock)\n",
    "4. [FinQA](#financial-qa-dataset)\n",
    "5. [FLARE FinQA](#flare-finqa)\n",
    "6. [ConvFinQA](#convfinqa-dataset)\n",
    "7. [FLARE ConvFinQA](#flare-convfinqa)\n",
    "8. [IBM FinTabNet](#ibm-fintabnet)\n",
    "9. [IBM FinTabNet OTSL](#fintabnet-otsl)\n",
    "\n",
    "To download the datasets on your dev environment, you can also use the [Download Script](../scripts/download_fin_data.py)"
   ]
  },
  {
   "cell_type": "markdown",
   "metadata": {},
   "source": [
    "## Import the Libraries\n",
    "\n",
    "Let's import the necessary libraries to explore the datasets."
   ]
  },
  {
   "cell_type": "code",
   "execution_count": 2,
   "metadata": {},
   "outputs": [
    {
     "name": "stderr",
     "output_type": "stream",
     "text": [
      "/var/folders/p7/r5r4nxk51x346x1818930krc0000gr/T/ipykernel_45910/3388819558.py:1: DeprecationWarning: Importing display from IPython.core.display is deprecated since IPython 7.14, please import from IPython display\n",
      "  from IPython.core.display import display, HTML\n",
      "/Users/asabuncuoglu/Documents/fairness-monitoring/.venv/lib/python3.10/site-packages/tqdm/auto.py:21: TqdmWarning: IProgress not found. Please update jupyter and ipywidgets. See https://ipywidgets.readthedocs.io/en/stable/user_install.html\n",
      "  from .autonotebook import tqdm as notebook_tqdm\n"
     ]
    }
   ],
   "source": [
    "from IPython.core.display import display, HTML\n",
    "import pandas as pd\n",
    "from io import StringIO\n",
    "from datasets import load_dataset\n",
    "from tqdm.notebook import tqdm"
   ]
  },
  {
   "cell_type": "code",
   "execution_count": 2,
   "metadata": {},
   "outputs": [
    {
     "name": "stdout",
     "output_type": "stream",
     "text": [
      "mkdir: data: File exists\n"
     ]
    }
   ],
   "source": [
    "!mkdir ../data"
   ]
  },
  {
   "cell_type": "markdown",
   "metadata": {},
   "source": [
    "# Financial Reports SEC\n",
    "\n",
    "Homepage: <https://huggingface.co/datasets/JanosAudran/financial-reports-sec>"
   ]
  },
  {
   "cell_type": "code",
   "execution_count": 6,
   "metadata": {},
   "outputs": [
    {
     "name": "stderr",
     "output_type": "stream",
     "text": [
      "/Users/asabuncuoglu/Documents/fairness-monitoring/.venv/lib/python3.10/site-packages/datasets/load.py:1461: FutureWarning: The repository for JanosAudran/financial-reports-sec contains custom code which must be executed to correctly load the dataset. You can inspect the repository content at https://hf.co/datasets/JanosAudran/financial-reports-sec\n",
      "You can avoid this message in future by passing the argument `trust_remote_code=True`.\n",
      "Passing `trust_remote_code=True` will be mandatory to load this dataset from the next major release of `datasets`.\n",
      "  warnings.warn(\n",
      "Downloading data: 100%|██████████| 2.88M/2.88M [00:00<00:00, 4.69MB/s]\n",
      "Downloading data: 100%|██████████| 214k/214k [00:00<00:00, 709kB/s] \n",
      "Downloading data: 100%|██████████| 674k/674k [00:00<00:00, 1.92MB/s]\n",
      "Downloading data: 0.00B [00:00, ?B/s]\n",
      "Downloading data: 0.00B [00:00, ?B/s]\n",
      "Downloading data: 0.00B [00:00, ?B/s]\n",
      "Downloading data: 0.00B [00:00, ?B/s]\n",
      "Downloading data: 0.00B [00:00, ?B/s]\n",
      "Downloading data: 0.00B [00:00, ?B/s]\n",
      "Downloading data: 0.00B [00:00, ?B/s]\n",
      "Downloading data: 100%|██████████| 3.65M/3.65M [00:00<00:00, 5.72MB/s]\n",
      "Downloading data: 100%|██████████| 5.29M/5.29M [00:00<00:00, 8.63MB/s]\n",
      "Downloading data: 100%|██████████| 1.33M/1.33M [00:00<00:00, 3.68MB/s]\n",
      "Downloading data: 100%|██████████| 2.59M/2.59M [00:00<00:00, 4.85MB/s]\n",
      "Downloading data: 100%|██████████| 2.51M/2.51M [00:00<00:00, 5.52MB/s]\n",
      "Downloading data: 100%|██████████| 3.20M/3.20M [00:00<00:00, 5.80MB/s]\n",
      "Downloading data: 100%|██████████| 7.29M/7.29M [00:00<00:00, 10.8MB/s]\n",
      "Downloading data: 100%|██████████| 4.35M/4.35M [00:00<00:00, 7.21MB/s]\n",
      "Downloading data: 100%|██████████| 4.40M/4.40M [00:00<00:00, 7.12MB/s]\n",
      "Downloading data: 100%|██████████| 287k/287k [00:00<00:00, 1.21MB/s]\n",
      "Downloading data: 100%|██████████| 1.30M/1.30M [00:00<00:00, 2.86MB/s]\n",
      "Downloading data: 100%|██████████| 1.32M/1.32M [00:00<00:00, 2.91MB/s]\n",
      "Downloading data: 100%|██████████| 1.48M/1.48M [00:00<00:00, 3.82MB/s]\n",
      "Downloading data: 0.00B [00:00, ?B/s]\n",
      "Downloading data: 0.00B [00:00, ?B/s]\n",
      "Downloading data: 0.00B [00:00, ?B/s]\n",
      "Downloading data: 0.00B [00:00, ?B/s]\n",
      "Downloading data: 0.00B [00:00, ?B/s]\n",
      "Downloading data: 0.00B [00:00, ?B/s]\n",
      "Downloading data: 0.00B [00:00, ?B/s]\n",
      "Generating train split: 100%|██████████| 200000/200000 [00:05<00:00, 37071.26 examples/s]\n",
      "Generating validation split: 100%|██████████| 20000/20000 [00:00<00:00, 37101.33 examples/s]\n",
      "Generating test split: 100%|██████████| 20000/20000 [00:00<00:00, 34350.93 examples/s]\n"
     ]
    }
   ],
   "source": [
    "# df = pd.read_csv('../data/fin_report_sec/train.csv')\n",
    "# The CSV file requires some preprocessing to be loaded correctly\n",
    "# So, I will call this from huggingface/datasets directly\n",
    "\n",
    "# dataset = load_dataset(\"JanosAudran/financial-reports-sec\", \"large_full\") It is around 10GB, so for demonstration we will use the smaller dataset\n",
    "# possible options are \"small_lite\", \"small_full\", \"large_lite\", \"large_full\"\n",
    "dataset = load_dataset(\"JanosAudran/financial-reports-sec\", \"small_lite\")"
   ]
  },
  {
   "cell_type": "code",
   "execution_count": 10,
   "metadata": {},
   "outputs": [],
   "source": [
    "df = dataset['train'].to_pandas()"
   ]
  },
  {
   "cell_type": "code",
   "execution_count": 11,
   "metadata": {},
   "outputs": [
    {
     "data": {
      "text/html": [
       "<div>\n",
       "<style scoped>\n",
       "    .dataframe tbody tr th:only-of-type {\n",
       "        vertical-align: middle;\n",
       "    }\n",
       "\n",
       "    .dataframe tbody tr th {\n",
       "        vertical-align: top;\n",
       "    }\n",
       "\n",
       "    .dataframe thead th {\n",
       "        text-align: right;\n",
       "    }\n",
       "</style>\n",
       "<table border=\"1\" class=\"dataframe\">\n",
       "  <thead>\n",
       "    <tr style=\"text-align: right;\">\n",
       "      <th></th>\n",
       "      <th>cik</th>\n",
       "      <th>sentence</th>\n",
       "      <th>section</th>\n",
       "      <th>labels</th>\n",
       "      <th>filingDate</th>\n",
       "      <th>docID</th>\n",
       "      <th>sentenceID</th>\n",
       "      <th>sentenceCount</th>\n",
       "    </tr>\n",
       "  </thead>\n",
       "  <tbody>\n",
       "    <tr>\n",
       "      <th>0</th>\n",
       "      <td>0000001750</td>\n",
       "      <td>ITEM 1.BUSINESS General AAR CORP. and its subs...</td>\n",
       "      <td>0</td>\n",
       "      <td>{'1d': 0, '5d': 1, '30d': 0}</td>\n",
       "      <td>2020-07-21</td>\n",
       "      <td>0000001750_10-K_2020</td>\n",
       "      <td>0000001750_10-K_2020_section_1_0</td>\n",
       "      <td>1</td>\n",
       "    </tr>\n",
       "    <tr>\n",
       "      <th>1</th>\n",
       "      <td>0000001750</td>\n",
       "      <td>AAR was founded in 1951, organized in 1955 and...</td>\n",
       "      <td>0</td>\n",
       "      <td>{'1d': 0, '5d': 1, '30d': 0}</td>\n",
       "      <td>2020-07-21</td>\n",
       "      <td>0000001750_10-K_2020</td>\n",
       "      <td>0000001750_10-K_2020_section_1_1</td>\n",
       "      <td>2</td>\n",
       "    </tr>\n",
       "    <tr>\n",
       "      <th>2</th>\n",
       "      <td>0000001750</td>\n",
       "      <td>We are a diversified provider of products and ...</td>\n",
       "      <td>0</td>\n",
       "      <td>{'1d': 0, '5d': 1, '30d': 0}</td>\n",
       "      <td>2020-07-21</td>\n",
       "      <td>0000001750_10-K_2020</td>\n",
       "      <td>0000001750_10-K_2020_section_1_2</td>\n",
       "      <td>3</td>\n",
       "    </tr>\n",
       "    <tr>\n",
       "      <th>3</th>\n",
       "      <td>0000001750</td>\n",
       "      <td>Fiscal 2020 began with strategic initiatives f...</td>\n",
       "      <td>0</td>\n",
       "      <td>{'1d': 0, '5d': 1, '30d': 0}</td>\n",
       "      <td>2020-07-21</td>\n",
       "      <td>0000001750_10-K_2020</td>\n",
       "      <td>0000001750_10-K_2020_section_1_3</td>\n",
       "      <td>4</td>\n",
       "    </tr>\n",
       "    <tr>\n",
       "      <th>4</th>\n",
       "      <td>0000001750</td>\n",
       "      <td>Our momentum from a successful fiscal 2019 car...</td>\n",
       "      <td>0</td>\n",
       "      <td>{'1d': 0, '5d': 1, '30d': 0}</td>\n",
       "      <td>2020-07-21</td>\n",
       "      <td>0000001750_10-K_2020</td>\n",
       "      <td>0000001750_10-K_2020_section_1_4</td>\n",
       "      <td>5</td>\n",
       "    </tr>\n",
       "  </tbody>\n",
       "</table>\n",
       "</div>"
      ],
      "text/plain": [
       "          cik                                           sentence  section  \\\n",
       "0  0000001750  ITEM 1.BUSINESS General AAR CORP. and its subs...        0   \n",
       "1  0000001750  AAR was founded in 1951, organized in 1955 and...        0   \n",
       "2  0000001750  We are a diversified provider of products and ...        0   \n",
       "3  0000001750  Fiscal 2020 began with strategic initiatives f...        0   \n",
       "4  0000001750  Our momentum from a successful fiscal 2019 car...        0   \n",
       "\n",
       "                         labels  filingDate                 docID  \\\n",
       "0  {'1d': 0, '5d': 1, '30d': 0}  2020-07-21  0000001750_10-K_2020   \n",
       "1  {'1d': 0, '5d': 1, '30d': 0}  2020-07-21  0000001750_10-K_2020   \n",
       "2  {'1d': 0, '5d': 1, '30d': 0}  2020-07-21  0000001750_10-K_2020   \n",
       "3  {'1d': 0, '5d': 1, '30d': 0}  2020-07-21  0000001750_10-K_2020   \n",
       "4  {'1d': 0, '5d': 1, '30d': 0}  2020-07-21  0000001750_10-K_2020   \n",
       "\n",
       "                         sentenceID  sentenceCount  \n",
       "0  0000001750_10-K_2020_section_1_0              1  \n",
       "1  0000001750_10-K_2020_section_1_1              2  \n",
       "2  0000001750_10-K_2020_section_1_2              3  \n",
       "3  0000001750_10-K_2020_section_1_3              4  \n",
       "4  0000001750_10-K_2020_section_1_4              5  "
      ]
     },
     "execution_count": 11,
     "metadata": {},
     "output_type": "execute_result"
    }
   ],
   "source": [
    "df.head()"
   ]
  },
  {
   "cell_type": "markdown",
   "metadata": {},
   "source": [
    "# Financial-PhraseBank\n",
    "\n",
    "Homepage: [Financial PhraseBank](https://www.researchgate.net/publication/251231364_FinancialPhraseBank-v10)\n",
    "\n",
    "Three-class (positive, negative, neutral) sentiment dataset of sentences from financial news. It consists a total of 4840 sentences from English language. The dataset is divided by agreement rate of 5-8 annotators. We used the [HF repository](https://huggingface.co/datasets/financial_phrasebank) to import the dataset.\n",
    "\n",
    "**Note:** The sentiment analysis is a well-established research area and financial phrasebank is only one dataset of this domain. If you would like to use more datasets to train the model, you can check the following links: [Financial News Dataset](https://www.kaggle.com/ankurzing/sentiment-analysis-for-financial-news), [Financial Tweets](https://www.kaggle.com/davidwallach/financial-tweets), [Financial News Sentiment](https://www.kaggle.com/ankurzing/sentiment-analysis-for-financial-news)\n"
   ]
  },
  {
   "cell_type": "code",
   "execution_count": 3,
   "metadata": {},
   "outputs": [],
   "source": [
    "# Load the financial sentiment dataset\n",
    "fin_sentiment = load_dataset(\"financial_phrasebank\", \"sentences_50agree\") # 2.26K rows with text and labels, all agreed by annotators. \n",
    "# Check the training data\n",
    "fin_sentiment_df = pd.DataFrame(fin_sentiment['train'])"
   ]
  },
  {
   "cell_type": "code",
   "execution_count": 4,
   "metadata": {},
   "outputs": [
    {
     "data": {
      "text/html": [
       "<div>\n",
       "<style scoped>\n",
       "    .dataframe tbody tr th:only-of-type {\n",
       "        vertical-align: middle;\n",
       "    }\n",
       "\n",
       "    .dataframe tbody tr th {\n",
       "        vertical-align: top;\n",
       "    }\n",
       "\n",
       "    .dataframe thead th {\n",
       "        text-align: right;\n",
       "    }\n",
       "</style>\n",
       "<table border=\"1\" class=\"dataframe\">\n",
       "  <thead>\n",
       "    <tr style=\"text-align: right;\">\n",
       "      <th></th>\n",
       "      <th>sentence</th>\n",
       "      <th>label</th>\n",
       "    </tr>\n",
       "  </thead>\n",
       "  <tbody>\n",
       "    <tr>\n",
       "      <th>0</th>\n",
       "      <td>According to Gran , the company has no plans t...</td>\n",
       "      <td>1</td>\n",
       "    </tr>\n",
       "    <tr>\n",
       "      <th>1</th>\n",
       "      <td>Technopolis plans to develop in stages an area...</td>\n",
       "      <td>1</td>\n",
       "    </tr>\n",
       "    <tr>\n",
       "      <th>2</th>\n",
       "      <td>The international electronic industry company ...</td>\n",
       "      <td>0</td>\n",
       "    </tr>\n",
       "    <tr>\n",
       "      <th>3</th>\n",
       "      <td>With the new production plant the company woul...</td>\n",
       "      <td>2</td>\n",
       "    </tr>\n",
       "    <tr>\n",
       "      <th>4</th>\n",
       "      <td>According to the company 's updated strategy f...</td>\n",
       "      <td>2</td>\n",
       "    </tr>\n",
       "  </tbody>\n",
       "</table>\n",
       "</div>"
      ],
      "text/plain": [
       "                                            sentence  label\n",
       "0  According to Gran , the company has no plans t...      1\n",
       "1  Technopolis plans to develop in stages an area...      1\n",
       "2  The international electronic industry company ...      0\n",
       "3  With the new production plant the company woul...      2\n",
       "4  According to the company 's updated strategy f...      2"
      ]
     },
     "execution_count": 4,
     "metadata": {},
     "output_type": "execute_result"
    }
   ],
   "source": [
    "fin_sentiment_df.head()"
   ]
  },
  {
   "cell_type": "code",
   "execution_count": 6,
   "metadata": {},
   "outputs": [
    {
     "data": {
      "text/plain": [
       "label\n",
       "1    2879\n",
       "2    1363\n",
       "0     604\n",
       "Name: count, dtype: int64"
      ]
     },
     "execution_count": 6,
     "metadata": {},
     "output_type": "execute_result"
    }
   ],
   "source": [
    "# Check the distribution of the labels\n",
    "fin_sentiment_df['label'].value_counts()"
   ]
  },
  {
   "cell_type": "code",
   "execution_count": 7,
   "metadata": {},
   "outputs": [
    {
     "data": {
      "text/plain": [
       "label\n",
       "1    0.594098\n",
       "2    0.281263\n",
       "0    0.124639\n",
       "Name: proportion, dtype: float64"
      ]
     },
     "execution_count": 7,
     "metadata": {},
     "output_type": "execute_result"
    }
   ],
   "source": [
    "# Check the normalised distribution of the labels\n",
    "fin_sentiment_df['label'].value_counts(normalize=True)"
   ]
  },
  {
   "cell_type": "code",
   "execution_count": 5,
   "metadata": {},
   "outputs": [],
   "source": [
    "# If you want to save the dataset to a csv file\n",
    "fin_sentiment_df.to_csv('../data/financial_phrasebank_50agree.csv', index=False) "
   ]
  },
  {
   "cell_type": "markdown",
   "metadata": {},
   "source": [
    "# AStock\n",
    "\n",
    "Homepage: <https://github.com/JinanZou/Astock>\n"
   ]
  },
  {
   "cell_type": "code",
   "execution_count": 1,
   "metadata": {},
   "outputs": [
    {
     "name": "stdout",
     "output_type": "stream",
     "text": [
      "--2024-06-13 11:57:53--  https://raw.githubusercontent.com/JinanZou/Astock/main/data/train.csv\n",
      "Resolving raw.githubusercontent.com (raw.githubusercontent.com)... 185.199.108.133, 185.199.110.133, 185.199.109.133, ...\n",
      "Connecting to raw.githubusercontent.com (raw.githubusercontent.com)|185.199.108.133|:443... connected.\n",
      "HTTP request sent, awaiting response... 200 OK\n",
      "Length: 32359692 (31M) [text/plain]\n",
      "Saving to: '../data/astock/train.csv'\n",
      "\n",
      "../data/astock/trai 100%[===================>]  30.86M  6.60MB/s    in 3.9s    \n",
      "\n",
      "2024-06-13 11:57:58 (7.96 MB/s) - '../data/astock/train.csv' saved [32359692/32359692]\n",
      "\n",
      "--2024-06-13 11:57:59--  https://raw.githubusercontent.com/JinanZou/Astock/main/data/test.csv\n",
      "Resolving raw.githubusercontent.com (raw.githubusercontent.com)... 185.199.108.133, 185.199.110.133, 185.199.109.133, ...\n",
      "Connecting to raw.githubusercontent.com (raw.githubusercontent.com)|185.199.108.133|:443... connected.\n",
      "HTTP request sent, awaiting response... 200 OK\n",
      "Length: 4001474 (3.8M) [application/octet-stream]\n",
      "Saving to: '../data/astock/test.csv'\n",
      "\n",
      "../data/astock/test 100%[===================>]   3.82M  12.8MB/s    in 0.3s    \n",
      "\n",
      "2024-06-13 11:58:00 (12.8 MB/s) - '../data/astock/test.csv' saved [4001474/4001474]\n",
      "\n",
      "--2024-06-13 11:58:00--  https://raw.githubusercontent.com/JinanZou/Astock/main/data/val.csv\n",
      "Resolving raw.githubusercontent.com (raw.githubusercontent.com)... 185.199.108.133, 185.199.110.133, 185.199.109.133, ...\n",
      "Connecting to raw.githubusercontent.com (raw.githubusercontent.com)|185.199.108.133|:443... connected.\n",
      "HTTP request sent, awaiting response... 200 OK\n",
      "Length: 4058387 (3.9M) [text/plain]\n",
      "Saving to: '../data/astock/val.csv'\n",
      "\n",
      "../data/astock/val. 100%[===================>]   3.87M  14.5MB/s    in 0.3s    \n",
      "\n",
      "2024-06-13 11:58:01 (14.5 MB/s) - '../data/astock/val.csv' saved [4058387/4058387]\n",
      "\n",
      "--2024-06-13 11:58:01--  https://raw.githubusercontent.com/JinanZou/Astock/main/data/df_all_year_srl.csv\n",
      "Resolving raw.githubusercontent.com (raw.githubusercontent.com)... 185.199.108.133, 185.199.110.133, 185.199.109.133, ...\n",
      "Connecting to raw.githubusercontent.com (raw.githubusercontent.com)|185.199.108.133|:443... connected.\n",
      "HTTP request sent, awaiting response... 200 OK\n",
      "Length: 43410579 (41M) [application/octet-stream]\n",
      "Saving to: '../data/astock/df_all_year_srl.csv'\n",
      "\n",
      "../data/astock/df_a 100%[===================>]  41.40M  3.58MB/s    in 9.1s    \n",
      "\n",
      "2024-06-13 11:58:11 (4.56 MB/s) - '../data/astock/df_all_year_srl.csv' saved [43410579/43410579]\n",
      "\n",
      "--2024-06-13 11:58:12--  https://raw.githubusercontent.com/JinanZou/Astock/main/data/ood.csv\n",
      "Resolving raw.githubusercontent.com (raw.githubusercontent.com)... 185.199.108.133, 185.199.110.133, 185.199.109.133, ...\n",
      "Connecting to raw.githubusercontent.com (raw.githubusercontent.com)|185.199.108.133|:443... connected.\n",
      "HTTP request sent, awaiting response... 200 OK\n",
      "Length: 26181252 (25M) [text/plain]\n",
      "Saving to: '../data/astock/ood.csv'\n",
      "\n",
      "../data/astock/ood. 100%[===================>]  24.97M  8.42MB/s    in 3.0s    \n",
      "\n",
      "2024-06-13 11:58:16 (8.42 MB/s) - '../data/astock/ood.csv' saved [26181252/26181252]\n",
      "\n"
     ]
    }
   ],
   "source": [
    "!mkdir ../data/astock\n",
    "!wget -O ../data/astock/train.csv https://raw.githubusercontent.com/JinanZou/Astock/main/data/train.csv\n",
    "!wget -O ../data/astock/test.csv https://raw.githubusercontent.com/JinanZou/Astock/main/data/test.csv\n",
    "!wget -O ../data/astock/val.csv https://raw.githubusercontent.com/JinanZou/Astock/main/data/val.csv\n",
    "!wget -O ../data/astock/df_all_year_srl.csv https://raw.githubusercontent.com/JinanZou/Astock/main/data/df_all_year_srl.csv\n",
    "!wget -O ../data/astock/ood.csv https://raw.githubusercontent.com/JinanZou/Astock/main/data/ood.csv"
   ]
  },
  {
   "cell_type": "code",
   "execution_count": 15,
   "metadata": {},
   "outputs": [],
   "source": [
    "df = pd.read_csv('../data/astock/ood.csv', delimiter='\\t')"
   ]
  },
  {
   "cell_type": "code",
   "execution_count": 16,
   "metadata": {},
   "outputs": [
    {
     "data": {
      "text/html": [
       "<div>\n",
       "<style scoped>\n",
       "    .dataframe tbody tr th:only-of-type {\n",
       "        vertical-align: middle;\n",
       "    }\n",
       "\n",
       "    .dataframe tbody tr th {\n",
       "        vertical-align: top;\n",
       "    }\n",
       "\n",
       "    .dataframe thead th {\n",
       "        text-align: right;\n",
       "    }\n",
       "</style>\n",
       "<table border=\"1\" class=\"dataframe\">\n",
       "  <thead>\n",
       "    <tr style=\"text-align: right;\">\n",
       "      <th></th>\n",
       "      <th>CODE</th>\n",
       "      <th>NAME</th>\n",
       "      <th>DATE</th>\n",
       "      <th>CREATED_DATE</th>\n",
       "      <th>text_a</th>\n",
       "      <th>DESCRIPTION</th>\n",
       "      <th>READ</th>\n",
       "      <th>MARKET</th>\n",
       "      <th>CHANGE</th>\n",
       "      <th>FIRST_DAY</th>\n",
       "      <th>...</th>\n",
       "      <th>verb_mask</th>\n",
       "      <th>A0_mask</th>\n",
       "      <th>A1_mask</th>\n",
       "      <th>AV_num</th>\n",
       "      <th>trade_date</th>\n",
       "      <th>open_close_chg</th>\n",
       "      <th>co_label</th>\n",
       "      <th>cc_label</th>\n",
       "      <th>stock_factors</th>\n",
       "      <th>label</th>\n",
       "    </tr>\n",
       "  </thead>\n",
       "  <tbody>\n",
       "    <tr>\n",
       "      <th>0</th>\n",
       "      <td>600006</td>\n",
       "      <td>东风汽车</td>\n",
       "      <td>2021-04-02 16:37:00</td>\n",
       "      <td>2021-04-02 16:33:00</td>\n",
       "      <td>东风汽车公告，3月汽车销量为2.31万辆，上年同期为1.37万辆，同比增长68.74%；一季...</td>\n",
       "      <td>东风汽车公告，3月汽车销量为2.31万辆，上年同期为1.37万辆，同比增长68.74%；一季...</td>\n",
       "      <td>4155194.0</td>\n",
       "      <td>1.0</td>\n",
       "      <td>0.003175</td>\n",
       "      <td>2021-04-02</td>\n",
       "      <td>...</td>\n",
       "      <td>[[0. 0. 0. ... 0. 0. 0.]\\n [0. 0. 0. ... 0. 0....</td>\n",
       "      <td>[[0. 0. 0. ... 0. 0. 0.]\\n [0. 0. 0. ... 0. 0....</td>\n",
       "      <td>[[0. 0. 0. ... 0. 0. 0.]\\n [0. 0. 0. ... 0. 0....</td>\n",
       "      <td>2.0</td>\n",
       "      <td>2021-04-02</td>\n",
       "      <td>0.134491</td>\n",
       "      <td>0.0</td>\n",
       "      <td>1.0</td>\n",
       "      <td>[-0.3020583603065712, -0.2981298667692732, -0....</td>\n",
       "      <td>1</td>\n",
       "    </tr>\n",
       "    <tr>\n",
       "      <th>1</th>\n",
       "      <td>601880</td>\n",
       "      <td>大连港</td>\n",
       "      <td>2021-01-11 18:47:00</td>\n",
       "      <td>2021-01-11 18:47:00</td>\n",
       "      <td>营口港公告，公司发布了《营口港务股份有限公司关于大连港股份有限公司换股吸收合并公司并募集配套...</td>\n",
       "      <td>营口港公告，公司发布了《营口港务股份有限公司关于大连港股份有限公司换股吸收合并公司并募集配套...</td>\n",
       "      <td>5379661.0</td>\n",
       "      <td>1.0</td>\n",
       "      <td>0.000000</td>\n",
       "      <td>2021-01-11</td>\n",
       "      <td>...</td>\n",
       "      <td>[[0. 0. 0. ... 0. 0. 0.]\\n [0. 0. 0. ... 0. 0....</td>\n",
       "      <td>[[0. 0. 0. ... 0. 0. 0.]\\n [0. 0. 0. ... 0. 0....</td>\n",
       "      <td>[[0. 0. 0. ... 0. 0. 0.]\\n [0. 0. 0. ... 0. 0....</td>\n",
       "      <td>4.0</td>\n",
       "      <td>2021-01-11</td>\n",
       "      <td>0.210301</td>\n",
       "      <td>2.0</td>\n",
       "      <td>3.0</td>\n",
       "      <td>[-0.3868333706631927, -0.3828631887629431, -0....</td>\n",
       "      <td>1</td>\n",
       "    </tr>\n",
       "    <tr>\n",
       "      <th>2</th>\n",
       "      <td>2271</td>\n",
       "      <td>东方雨虹</td>\n",
       "      <td>2021-02-07 16:55:00</td>\n",
       "      <td>2021-02-07 16:55:00</td>\n",
       "      <td>东方雨虹公告，非公开发行股票申请获得中国证监会核准批文。</td>\n",
       "      <td>东方雨虹公告，非公开发行股票申请获得中国证监会核准批文。</td>\n",
       "      <td>5442991.0</td>\n",
       "      <td>0.0</td>\n",
       "      <td>-0.014683</td>\n",
       "      <td>2021-02-05</td>\n",
       "      <td>...</td>\n",
       "      <td>[[0. 0. 0. ... 0. 0. 0.]\\n [0. 0. 0. ... 0. 0....</td>\n",
       "      <td>[[0. 0. 0. ... 0. 0. 0.]\\n [0. 0. 0. ... 0. 0....</td>\n",
       "      <td>[[0. 0. 0. ... 0. 0. 0.]\\n [0. 0. 0. ... 0. 0....</td>\n",
       "      <td>1.0</td>\n",
       "      <td>2021-02-05</td>\n",
       "      <td>-1.108554</td>\n",
       "      <td>0.0</td>\n",
       "      <td>1.0</td>\n",
       "      <td>[0.5756114363380322, 0.5596214058343731, 0.558...</td>\n",
       "      <td>0</td>\n",
       "    </tr>\n",
       "    <tr>\n",
       "      <th>3</th>\n",
       "      <td>603486</td>\n",
       "      <td>科沃斯</td>\n",
       "      <td>2021-01-18 18:26:00</td>\n",
       "      <td>2021-01-18 18:18:00</td>\n",
       "      <td>科沃斯公告，公司持股4.12%的股东泰怡凱電器有限公司拟减持不超过1693.10万股，即不超...</td>\n",
       "      <td>科沃斯公告，公司持股4.12%的股东泰怡凱電器有限公司拟减持不超过1693.10万股，即不超...</td>\n",
       "      <td>5457064.0</td>\n",
       "      <td>1.0</td>\n",
       "      <td>-0.045938</td>\n",
       "      <td>2021-01-18</td>\n",
       "      <td>...</td>\n",
       "      <td>[[0. 0. 0. ... 0. 0. 0.]\\n [0. 0. 0. ... 0. 0....</td>\n",
       "      <td>[[0. 0. 0. ... 0. 0. 0.]\\n [0. 0. 0. ... 0. 0....</td>\n",
       "      <td>[[0. 0. 0. ... 0. 0. 0.]\\n [0. 0. 0. ... 0. 0....</td>\n",
       "      <td>1.0</td>\n",
       "      <td>2021-01-18</td>\n",
       "      <td>-3.260698</td>\n",
       "      <td>0.0</td>\n",
       "      <td>0.0</td>\n",
       "      <td>[1.8006385305400538, 1.7302126454124178, 1.655...</td>\n",
       "      <td>0</td>\n",
       "    </tr>\n",
       "    <tr>\n",
       "      <th>4</th>\n",
       "      <td>600319</td>\n",
       "      <td>ST亚星</td>\n",
       "      <td>2021-01-17 19:21:00</td>\n",
       "      <td>2021-01-17 19:20:00</td>\n",
       "      <td>ST亚星公告，公司收上交所问询函，此前公司称拟终止筹划重大资产重组暨签订现金收购景芝酒业白酒...</td>\n",
       "      <td>ST亚星公告，公司收上交所问询函，此前公司称拟终止筹划重大资产重组暨签订现金收购景芝酒业白酒...</td>\n",
       "      <td>5456051.0</td>\n",
       "      <td>1.0</td>\n",
       "      <td>-0.049869</td>\n",
       "      <td>2021-01-15</td>\n",
       "      <td>...</td>\n",
       "      <td>[[0. 0. 0. ... 0. 0. 0.]\\n [0. 0. 0. ... 0. 0....</td>\n",
       "      <td>[[0. 0. 0. ... 0. 0. 0.]\\n [0. 0. 0. ... 0. 0....</td>\n",
       "      <td>[[0. 0. 0. ... 0. 0. 0.]\\n [0. 0. 0. ... 0. 0....</td>\n",
       "      <td>2.0</td>\n",
       "      <td>2021-01-15</td>\n",
       "      <td>-3.283389</td>\n",
       "      <td>4.0</td>\n",
       "      <td>4.0</td>\n",
       "      <td>[-0.2663411732838291, -0.2732655989281695, -0....</td>\n",
       "      <td>0</td>\n",
       "    </tr>\n",
       "  </tbody>\n",
       "</table>\n",
       "<p>5 rows × 41 columns</p>\n",
       "</div>"
      ],
      "text/plain": [
       "     CODE  NAME                 DATE         CREATED_DATE  \\\n",
       "0  600006  东风汽车  2021-04-02 16:37:00  2021-04-02 16:33:00   \n",
       "1  601880   大连港  2021-01-11 18:47:00  2021-01-11 18:47:00   \n",
       "2    2271  东方雨虹  2021-02-07 16:55:00  2021-02-07 16:55:00   \n",
       "3  603486   科沃斯  2021-01-18 18:26:00  2021-01-18 18:18:00   \n",
       "4  600319  ST亚星  2021-01-17 19:21:00  2021-01-17 19:20:00   \n",
       "\n",
       "                                              text_a  \\\n",
       "0  东风汽车公告，3月汽车销量为2.31万辆，上年同期为1.37万辆，同比增长68.74%；一季...   \n",
       "1  营口港公告，公司发布了《营口港务股份有限公司关于大连港股份有限公司换股吸收合并公司并募集配套...   \n",
       "2                       东方雨虹公告，非公开发行股票申请获得中国证监会核准批文。   \n",
       "3  科沃斯公告，公司持股4.12%的股东泰怡凱電器有限公司拟减持不超过1693.10万股，即不超...   \n",
       "4  ST亚星公告，公司收上交所问询函，此前公司称拟终止筹划重大资产重组暨签订现金收购景芝酒业白酒...   \n",
       "\n",
       "                                         DESCRIPTION       READ  MARKET  \\\n",
       "0  东风汽车公告，3月汽车销量为2.31万辆，上年同期为1.37万辆，同比增长68.74%；一季...  4155194.0     1.0   \n",
       "1  营口港公告，公司发布了《营口港务股份有限公司关于大连港股份有限公司换股吸收合并公司并募集配套...  5379661.0     1.0   \n",
       "2                       东方雨虹公告，非公开发行股票申请获得中国证监会核准批文。  5442991.0     0.0   \n",
       "3  科沃斯公告，公司持股4.12%的股东泰怡凱電器有限公司拟减持不超过1693.10万股，即不超...  5457064.0     1.0   \n",
       "4  ST亚星公告，公司收上交所问询函，此前公司称拟终止筹划重大资产重组暨签订现金收购景芝酒业白酒...  5456051.0     1.0   \n",
       "\n",
       "     CHANGE   FIRST_DAY  ...  \\\n",
       "0  0.003175  2021-04-02  ...   \n",
       "1  0.000000  2021-01-11  ...   \n",
       "2 -0.014683  2021-02-05  ...   \n",
       "3 -0.045938  2021-01-18  ...   \n",
       "4 -0.049869  2021-01-15  ...   \n",
       "\n",
       "                                           verb_mask  \\\n",
       "0  [[0. 0. 0. ... 0. 0. 0.]\\n [0. 0. 0. ... 0. 0....   \n",
       "1  [[0. 0. 0. ... 0. 0. 0.]\\n [0. 0. 0. ... 0. 0....   \n",
       "2  [[0. 0. 0. ... 0. 0. 0.]\\n [0. 0. 0. ... 0. 0....   \n",
       "3  [[0. 0. 0. ... 0. 0. 0.]\\n [0. 0. 0. ... 0. 0....   \n",
       "4  [[0. 0. 0. ... 0. 0. 0.]\\n [0. 0. 0. ... 0. 0....   \n",
       "\n",
       "                                             A0_mask  \\\n",
       "0  [[0. 0. 0. ... 0. 0. 0.]\\n [0. 0. 0. ... 0. 0....   \n",
       "1  [[0. 0. 0. ... 0. 0. 0.]\\n [0. 0. 0. ... 0. 0....   \n",
       "2  [[0. 0. 0. ... 0. 0. 0.]\\n [0. 0. 0. ... 0. 0....   \n",
       "3  [[0. 0. 0. ... 0. 0. 0.]\\n [0. 0. 0. ... 0. 0....   \n",
       "4  [[0. 0. 0. ... 0. 0. 0.]\\n [0. 0. 0. ... 0. 0....   \n",
       "\n",
       "                                             A1_mask  AV_num  trade_date  \\\n",
       "0  [[0. 0. 0. ... 0. 0. 0.]\\n [0. 0. 0. ... 0. 0....     2.0  2021-04-02   \n",
       "1  [[0. 0. 0. ... 0. 0. 0.]\\n [0. 0. 0. ... 0. 0....     4.0  2021-01-11   \n",
       "2  [[0. 0. 0. ... 0. 0. 0.]\\n [0. 0. 0. ... 0. 0....     1.0  2021-02-05   \n",
       "3  [[0. 0. 0. ... 0. 0. 0.]\\n [0. 0. 0. ... 0. 0....     1.0  2021-01-18   \n",
       "4  [[0. 0. 0. ... 0. 0. 0.]\\n [0. 0. 0. ... 0. 0....     2.0  2021-01-15   \n",
       "\n",
       "   open_close_chg  co_label cc_label  \\\n",
       "0        0.134491       0.0      1.0   \n",
       "1        0.210301       2.0      3.0   \n",
       "2       -1.108554       0.0      1.0   \n",
       "3       -3.260698       0.0      0.0   \n",
       "4       -3.283389       4.0      4.0   \n",
       "\n",
       "                                       stock_factors  label  \n",
       "0  [-0.3020583603065712, -0.2981298667692732, -0....      1  \n",
       "1  [-0.3868333706631927, -0.3828631887629431, -0....      1  \n",
       "2  [0.5756114363380322, 0.5596214058343731, 0.558...      0  \n",
       "3  [1.8006385305400538, 1.7302126454124178, 1.655...      0  \n",
       "4  [-0.2663411732838291, -0.2732655989281695, -0....      0  \n",
       "\n",
       "[5 rows x 41 columns]"
      ]
     },
     "execution_count": 16,
     "metadata": {},
     "output_type": "execute_result"
    }
   ],
   "source": [
    "df.head()"
   ]
  },
  {
   "cell_type": "markdown",
   "metadata": {},
   "source": [
    "## Financial QA Dataset\n",
    "\n",
    "Homepage: [FinQA](https://github.com/czyssrs/FinQA)\n",
    "\n",
    "A large scale dataset to develop analysis capability on business financials, numerical reasoning, and understand heterogenous representation."
   ]
  },
  {
   "cell_type": "code",
   "execution_count": null,
   "metadata": {},
   "outputs": [],
   "source": [
    "!mkdir ../data/finqa\n",
    "!wget -O ../data/finqa/train.json https://raw.githubusercontent.com/czyssrs/FinQA/main/dataset/train.json # Approximately 15MB\n",
    "!wget -O ../data/finqa/dev.json https://raw.githubusercontent.com/czyssrs/FinQA/main/dataset/dev.json # Approximately 2MB\n",
    "!wget -O ../data/finqa/test.json https://raw.githubusercontent.com/czyssrs/FinQA/main/dataset/test.json # Approximately 2MB"
   ]
  },
  {
   "cell_type": "code",
   "execution_count": 8,
   "metadata": {},
   "outputs": [],
   "source": [
    "finqa_train = pd.read_json('../data/finqa/train.json')"
   ]
  },
  {
   "cell_type": "code",
   "execution_count": 9,
   "metadata": {},
   "outputs": [
    {
     "data": {
      "text/html": [
       "<div>\n",
       "<style scoped>\n",
       "    .dataframe tbody tr th:only-of-type {\n",
       "        vertical-align: middle;\n",
       "    }\n",
       "\n",
       "    .dataframe tbody tr th {\n",
       "        vertical-align: top;\n",
       "    }\n",
       "\n",
       "    .dataframe thead th {\n",
       "        text-align: right;\n",
       "    }\n",
       "</style>\n",
       "<table border=\"1\" class=\"dataframe\">\n",
       "  <thead>\n",
       "    <tr style=\"text-align: right;\">\n",
       "      <th></th>\n",
       "      <th>pre_text</th>\n",
       "      <th>post_text</th>\n",
       "      <th>filename</th>\n",
       "      <th>table_ori</th>\n",
       "      <th>table</th>\n",
       "      <th>qa</th>\n",
       "      <th>id</th>\n",
       "      <th>table_retrieved</th>\n",
       "      <th>text_retrieved</th>\n",
       "      <th>table_retrieved_all</th>\n",
       "      <th>text_retrieved_all</th>\n",
       "    </tr>\n",
       "  </thead>\n",
       "  <tbody>\n",
       "    <tr>\n",
       "      <th>0</th>\n",
       "      <td>[interest rate to a variable interest rate bas...</td>\n",
       "      <td>[fair value of forward exchange contracts afte...</td>\n",
       "      <td>ADI/2009/page_49.pdf</td>\n",
       "      <td>[[, October 31, 2009, November 1, 2008], [Fair...</td>\n",
       "      <td>[[, october 31 2009, november 1 2008], [fair v...</td>\n",
       "      <td>{'question': 'what is the the interest expense...</td>\n",
       "      <td>ADI/2009/page_49.pdf-1</td>\n",
       "      <td>[{'score': -0.620767951011657, 'ind': 'table_1...</td>\n",
       "      <td>[{'score': 1.251369595527649, 'ind': 'text_1'}...</td>\n",
       "      <td>[{'score': -0.620767951011657, 'ind': 'table_1...</td>\n",
       "      <td>[{'score': 1.251369595527649, 'ind': 'text_1'}...</td>\n",
       "    </tr>\n",
       "    <tr>\n",
       "      <th>1</th>\n",
       "      <td>[abiomed , inc ., and subsidiaries notes to co...</td>\n",
       "      <td>[the remaining unrecognized compensation expen...</td>\n",
       "      <td>ABMD/2012/page_75.pdf</td>\n",
       "      <td>[[, Number of Shares (in thousands), Weighted ...</td>\n",
       "      <td>[[, number of shares ( in thousands ), weighte...</td>\n",
       "      <td>{'question': 'during the 2012 year , did the e...</td>\n",
       "      <td>ABMD/2012/page_75.pdf-1</td>\n",
       "      <td>[{'score': 1.944458127021789, 'ind': 'table_2'}]</td>\n",
       "      <td>[{'score': 1.835455536842346, 'ind': 'text_15'...</td>\n",
       "      <td>[{'score': 1.944458127021789, 'ind': 'table_2'...</td>\n",
       "      <td>[{'score': 1.835455536842346, 'ind': 'text_15'...</td>\n",
       "    </tr>\n",
       "    <tr>\n",
       "      <th>2</th>\n",
       "      <td>[the following table shows annual aircraft fue...</td>\n",
       "      <td>[as of december 31 , 2018 , we did not have an...</td>\n",
       "      <td>AAL/2018/page_13.pdf</td>\n",
       "      <td>[[Year, Gallons, Average Priceper Gallon, Airc...</td>\n",
       "      <td>[[year, gallons, average priceper gallon, airc...</td>\n",
       "      <td>{'question': 'what was the total operating exp...</td>\n",
       "      <td>AAL/2018/page_13.pdf-2</td>\n",
       "      <td>[{'score': 1.610554456710815, 'ind': 'table_1'...</td>\n",
       "      <td>[{'score': -1.64792251586914, 'ind': 'text_9'}...</td>\n",
       "      <td>[{'score': 1.610554456710815, 'ind': 'table_1'...</td>\n",
       "      <td>[{'score': -1.64792251586914, 'ind': 'text_9'}...</td>\n",
       "    </tr>\n",
       "    <tr>\n",
       "      <th>3</th>\n",
       "      <td>[the fair value of our grants receivable is de...</td>\n",
       "      <td>[in the third quarter of 2013 , we sold our sh...</td>\n",
       "      <td>INTC/2013/page_71.pdf</td>\n",
       "      <td>[[(In Millions), Dec 28,2013, Dec 29,2012], [A...</td>\n",
       "      <td>[[( in millions ), dec 282013, dec 292012], [a...</td>\n",
       "      <td>{'question': 'what percentage of total cash an...</td>\n",
       "      <td>INTC/2013/page_71.pdf-4</td>\n",
       "      <td>[{'score': 2.9937365055084233, 'ind': 'table_8...</td>\n",
       "      <td>[{'score': -2.141725540161133, 'ind': 'text_9'...</td>\n",
       "      <td>[{'score': 2.9937365055084233, 'ind': 'table_8...</td>\n",
       "      <td>[{'score': -2.141725540161133, 'ind': 'text_9'...</td>\n",
       "    </tr>\n",
       "    <tr>\n",
       "      <th>4</th>\n",
       "      <td>[entergy louisiana , llc management's financia...</td>\n",
       "      <td>[the retail electric price variance is primari...</td>\n",
       "      <td>ETR/2008/page_313.pdf</td>\n",
       "      <td>[[, Amount (In Millions)], [2007 net revenue, ...</td>\n",
       "      <td>[[, amount ( in millions )], [2007 net revenue...</td>\n",
       "      <td>{'question': 'what is the growth rate in net r...</td>\n",
       "      <td>ETR/2008/page_313.pdf-3</td>\n",
       "      <td>[{'score': 3.095985174179077, 'ind': 'table_6'...</td>\n",
       "      <td>[{'score': -0.5041980147361751, 'ind': 'text_2'}]</td>\n",
       "      <td>[{'score': 3.095985174179077, 'ind': 'table_6'...</td>\n",
       "      <td>[{'score': -0.5041980147361751, 'ind': 'text_2...</td>\n",
       "    </tr>\n",
       "  </tbody>\n",
       "</table>\n",
       "</div>"
      ],
      "text/plain": [
       "                                            pre_text  \\\n",
       "0  [interest rate to a variable interest rate bas...   \n",
       "1  [abiomed , inc ., and subsidiaries notes to co...   \n",
       "2  [the following table shows annual aircraft fue...   \n",
       "3  [the fair value of our grants receivable is de...   \n",
       "4  [entergy louisiana , llc management's financia...   \n",
       "\n",
       "                                           post_text               filename  \\\n",
       "0  [fair value of forward exchange contracts afte...   ADI/2009/page_49.pdf   \n",
       "1  [the remaining unrecognized compensation expen...  ABMD/2012/page_75.pdf   \n",
       "2  [as of december 31 , 2018 , we did not have an...   AAL/2018/page_13.pdf   \n",
       "3  [in the third quarter of 2013 , we sold our sh...  INTC/2013/page_71.pdf   \n",
       "4  [the retail electric price variance is primari...  ETR/2008/page_313.pdf   \n",
       "\n",
       "                                           table_ori  \\\n",
       "0  [[, October 31, 2009, November 1, 2008], [Fair...   \n",
       "1  [[, Number of Shares (in thousands), Weighted ...   \n",
       "2  [[Year, Gallons, Average Priceper Gallon, Airc...   \n",
       "3  [[(In Millions), Dec 28,2013, Dec 29,2012], [A...   \n",
       "4  [[, Amount (In Millions)], [2007 net revenue, ...   \n",
       "\n",
       "                                               table  \\\n",
       "0  [[, october 31 2009, november 1 2008], [fair v...   \n",
       "1  [[, number of shares ( in thousands ), weighte...   \n",
       "2  [[year, gallons, average priceper gallon, airc...   \n",
       "3  [[( in millions ), dec 282013, dec 292012], [a...   \n",
       "4  [[, amount ( in millions )], [2007 net revenue...   \n",
       "\n",
       "                                                  qa                       id  \\\n",
       "0  {'question': 'what is the the interest expense...   ADI/2009/page_49.pdf-1   \n",
       "1  {'question': 'during the 2012 year , did the e...  ABMD/2012/page_75.pdf-1   \n",
       "2  {'question': 'what was the total operating exp...   AAL/2018/page_13.pdf-2   \n",
       "3  {'question': 'what percentage of total cash an...  INTC/2013/page_71.pdf-4   \n",
       "4  {'question': 'what is the growth rate in net r...  ETR/2008/page_313.pdf-3   \n",
       "\n",
       "                                     table_retrieved  \\\n",
       "0  [{'score': -0.620767951011657, 'ind': 'table_1...   \n",
       "1   [{'score': 1.944458127021789, 'ind': 'table_2'}]   \n",
       "2  [{'score': 1.610554456710815, 'ind': 'table_1'...   \n",
       "3  [{'score': 2.9937365055084233, 'ind': 'table_8...   \n",
       "4  [{'score': 3.095985174179077, 'ind': 'table_6'...   \n",
       "\n",
       "                                      text_retrieved  \\\n",
       "0  [{'score': 1.251369595527649, 'ind': 'text_1'}...   \n",
       "1  [{'score': 1.835455536842346, 'ind': 'text_15'...   \n",
       "2  [{'score': -1.64792251586914, 'ind': 'text_9'}...   \n",
       "3  [{'score': -2.141725540161133, 'ind': 'text_9'...   \n",
       "4  [{'score': -0.5041980147361751, 'ind': 'text_2'}]   \n",
       "\n",
       "                                 table_retrieved_all  \\\n",
       "0  [{'score': -0.620767951011657, 'ind': 'table_1...   \n",
       "1  [{'score': 1.944458127021789, 'ind': 'table_2'...   \n",
       "2  [{'score': 1.610554456710815, 'ind': 'table_1'...   \n",
       "3  [{'score': 2.9937365055084233, 'ind': 'table_8...   \n",
       "4  [{'score': 3.095985174179077, 'ind': 'table_6'...   \n",
       "\n",
       "                                  text_retrieved_all  \n",
       "0  [{'score': 1.251369595527649, 'ind': 'text_1'}...  \n",
       "1  [{'score': 1.835455536842346, 'ind': 'text_15'...  \n",
       "2  [{'score': -1.64792251586914, 'ind': 'text_9'}...  \n",
       "3  [{'score': -2.141725540161133, 'ind': 'text_9'...  \n",
       "4  [{'score': -0.5041980147361751, 'ind': 'text_2...  "
      ]
     },
     "execution_count": 9,
     "metadata": {},
     "output_type": "execute_result"
    }
   ],
   "source": [
    "finqa_train.head()"
   ]
  },
  {
   "cell_type": "code",
   "execution_count": 10,
   "metadata": {},
   "outputs": [
    {
     "data": {
      "text/html": [
       "<div>\n",
       "<style scoped>\n",
       "    .dataframe tbody tr th:only-of-type {\n",
       "        vertical-align: middle;\n",
       "    }\n",
       "\n",
       "    .dataframe tbody tr th {\n",
       "        vertical-align: top;\n",
       "    }\n",
       "\n",
       "    .dataframe thead th {\n",
       "        text-align: right;\n",
       "    }\n",
       "</style>\n",
       "<table border=\"1\" class=\"dataframe\">\n",
       "  <thead>\n",
       "    <tr style=\"text-align: right;\">\n",
       "      <th></th>\n",
       "      <th>pre_text</th>\n",
       "      <th>post_text</th>\n",
       "      <th>filename</th>\n",
       "      <th>table_ori</th>\n",
       "      <th>table</th>\n",
       "      <th>qa</th>\n",
       "      <th>id</th>\n",
       "      <th>table_retrieved</th>\n",
       "      <th>text_retrieved</th>\n",
       "      <th>table_retrieved_all</th>\n",
       "      <th>text_retrieved_all</th>\n",
       "    </tr>\n",
       "  </thead>\n",
       "  <tbody>\n",
       "    <tr>\n",
       "      <th>count</th>\n",
       "      <td>6251</td>\n",
       "      <td>6251</td>\n",
       "      <td>6251</td>\n",
       "      <td>6251</td>\n",
       "      <td>6251</td>\n",
       "      <td>6251</td>\n",
       "      <td>6251</td>\n",
       "      <td>6251</td>\n",
       "      <td>6251</td>\n",
       "      <td>6251</td>\n",
       "      <td>6251</td>\n",
       "    </tr>\n",
       "    <tr>\n",
       "      <th>unique</th>\n",
       "      <td>2090</td>\n",
       "      <td>1862</td>\n",
       "      <td>2110</td>\n",
       "      <td>2098</td>\n",
       "      <td>2097</td>\n",
       "      <td>6203</td>\n",
       "      <td>6251</td>\n",
       "      <td>5758</td>\n",
       "      <td>5580</td>\n",
       "      <td>6192</td>\n",
       "      <td>6194</td>\n",
       "    </tr>\n",
       "    <tr>\n",
       "      <th>top</th>\n",
       "      <td>[.]</td>\n",
       "      <td>[.]</td>\n",
       "      <td>CME/2017/page_83.pdf</td>\n",
       "      <td>[[Current assets, $1,922], [Long-term assets, ...</td>\n",
       "      <td>[[current assets, $ 1922], [long-term assets, ...</td>\n",
       "      <td>{'question': 'what percent did purchase issuan...</td>\n",
       "      <td>ADI/2009/page_49.pdf-1</td>\n",
       "      <td>[]</td>\n",
       "      <td>[]</td>\n",
       "      <td>[{'score': -0.5908989310264581, 'ind': 'table_...</td>\n",
       "      <td>[{'score': 2.742092132568359, 'ind': 'text_17'...</td>\n",
       "    </tr>\n",
       "    <tr>\n",
       "      <th>freq</th>\n",
       "      <td>20</td>\n",
       "      <td>639</td>\n",
       "      <td>6</td>\n",
       "      <td>9</td>\n",
       "      <td>9</td>\n",
       "      <td>2</td>\n",
       "      <td>1</td>\n",
       "      <td>440</td>\n",
       "      <td>620</td>\n",
       "      <td>2</td>\n",
       "      <td>2</td>\n",
       "    </tr>\n",
       "  </tbody>\n",
       "</table>\n",
       "</div>"
      ],
      "text/plain": [
       "       pre_text post_text              filename  \\\n",
       "count      6251      6251                  6251   \n",
       "unique     2090      1862                  2110   \n",
       "top         [.]       [.]  CME/2017/page_83.pdf   \n",
       "freq         20       639                     6   \n",
       "\n",
       "                                                table_ori  \\\n",
       "count                                                6251   \n",
       "unique                                               2098   \n",
       "top     [[Current assets, $1,922], [Long-term assets, ...   \n",
       "freq                                                    9   \n",
       "\n",
       "                                                    table  \\\n",
       "count                                                6251   \n",
       "unique                                               2097   \n",
       "top     [[current assets, $ 1922], [long-term assets, ...   \n",
       "freq                                                    9   \n",
       "\n",
       "                                                       qa  \\\n",
       "count                                                6251   \n",
       "unique                                               6203   \n",
       "top     {'question': 'what percent did purchase issuan...   \n",
       "freq                                                    2   \n",
       "\n",
       "                            id table_retrieved text_retrieved  \\\n",
       "count                     6251            6251           6251   \n",
       "unique                    6251            5758           5580   \n",
       "top     ADI/2009/page_49.pdf-1              []             []   \n",
       "freq                         1             440            620   \n",
       "\n",
       "                                      table_retrieved_all  \\\n",
       "count                                                6251   \n",
       "unique                                               6192   \n",
       "top     [{'score': -0.5908989310264581, 'ind': 'table_...   \n",
       "freq                                                    2   \n",
       "\n",
       "                                       text_retrieved_all  \n",
       "count                                                6251  \n",
       "unique                                               6194  \n",
       "top     [{'score': 2.742092132568359, 'ind': 'text_17'...  \n",
       "freq                                                    2  "
      ]
     },
     "execution_count": 10,
     "metadata": {},
     "output_type": "execute_result"
    }
   ],
   "source": [
    "finqa_train.describe()"
   ]
  },
  {
   "cell_type": "code",
   "execution_count": 11,
   "metadata": {},
   "outputs": [
    {
     "data": {
      "text/plain": [
       "pre_text               object\n",
       "post_text              object\n",
       "filename               object\n",
       "table_ori              object\n",
       "table                  object\n",
       "qa                     object\n",
       "id                     object\n",
       "table_retrieved        object\n",
       "text_retrieved         object\n",
       "table_retrieved_all    object\n",
       "text_retrieved_all     object\n",
       "dtype: object"
      ]
     },
     "execution_count": 11,
     "metadata": {},
     "output_type": "execute_result"
    }
   ],
   "source": [
    "finqa_train.dtypes"
   ]
  },
  {
   "cell_type": "code",
   "execution_count": 12,
   "metadata": {},
   "outputs": [
    {
     "name": "stdout",
     "output_type": "stream",
     "text": [
      "what is the the interest expense in 2009?\n",
      "interest rate to a variable interest rate based on the three-month libor plus 2.05% ( 2.05 % ) ( 2.34% ( 2.34 % ) as of october 31 , 2009 ) . if libor changes by 100 basis points , our annual interest expense would change by $ 3.8 million . dollar , would have on the fair value of our forward exchange contracts as of october 31 , 2009 and november 1 , 2008: . \n",
      "if libor changes by 100 basis points , our annual interest expense would change by $ 3.8 million . \n",
      "[['', 'october 31 2009', 'november 1 2008'], ['fair value of forward exchange contracts asset ( liability )', '$ 6427', '$ -23158 ( 23158 )'], ['fair value of forward exchange contracts after a 10% ( 10 % ) unfavorable movement in foreign currency exchange rates asset ( liability )', '$ 20132', '$ -9457 ( 9457 )'], ['fair value of forward exchange contracts after a 10% ( 10 % ) favorable movement in foreign currency exchange rates liability', '$ -6781 ( 6781 )', '$ -38294 ( 38294 )']]\n"
     ]
    }
   ],
   "source": [
    "entry = finqa_train.iloc[0]\n",
    "question = entry[\"qa\"][\"question\"]\n",
    "\n",
    "print(question)\n",
    "\n",
    "context = \"\"\n",
    "for ind, each_sent in entry[\"qa\"][\"model_input\"]:\n",
    "    context += each_sent\n",
    "    context += \" \"\n",
    "\n",
    "print(context)\n",
    "\n",
    "context = \"\"\n",
    "for each_con in entry[\"qa\"][\"gold_inds\"]:\n",
    "    context += entry[\"qa\"][\"gold_inds\"][each_con]\n",
    "    context += \" \"\n",
    "\n",
    "print(context)\n",
    "\n",
    "table = entry[\"table\"]\n",
    "print(table)"
   ]
  },
  {
   "cell_type": "markdown",
   "metadata": {},
   "source": [
    "# Flare FinQA\n",
    "\n",
    "Part of the [PIXIU](https://github.com/The-FinAI/PIXIU) project, researchers and practitioners from China, UK and US created datasets that can be ready-to-feed in the LLM prompting format. Called FLARE Evaluation datasets, they present a set of prompt-based datasets: [see HF Repo](https://huggingface.co/collections/ChanceFocus/flare-evaluation-datasets-english-6529286a147d9119a64689c0). In the Flare-FinQA, they convert the FinQA dataset to work with prompt-based strategies."
   ]
  },
  {
   "cell_type": "code",
   "execution_count": 13,
   "metadata": {},
   "outputs": [
    {
     "name": "stdout",
     "output_type": "stream",
     "text": [
      "DatasetDict({\n",
      "    train: Dataset({\n",
      "        features: ['id', 'query', 'answer', 'text'],\n",
      "        num_rows: 6251\n",
      "    })\n",
      "    test: Dataset({\n",
      "        features: ['id', 'query', 'answer', 'text'],\n",
      "        num_rows: 1147\n",
      "    })\n",
      "    valid: Dataset({\n",
      "        features: ['id', 'query', 'answer', 'text'],\n",
      "        num_rows: 883\n",
      "    })\n",
      "})\n"
     ]
    }
   ],
   "source": [
    "dataset = load_dataset(\"ChanceFocus/flare-finqa\") #Approximate Size: 16MB\n",
    "print(dataset)"
   ]
  },
  {
   "cell_type": "code",
   "execution_count": 14,
   "metadata": {},
   "outputs": [
    {
     "name": "stdout",
     "output_type": "stream",
     "text": [
      "Please answer the given financial question based on the context.\n",
      "Context: the significant changes from december 31 , 2008 to december 31 , 2009 in level 3 assets and liabilities are due to : a net decrease in trading securities of $ 10.8 billion that was driven by : 2022 net transfers of $ 6.5 billion , due mainly to the transfer of debt 2013 securities from level 3 to level 2 due to increased liquidity and pricing transparency ; and net settlements of $ 5.8 billion , due primarily to the liquidations of 2013 subprime securities of $ 4.1 billion . the change in net trading derivatives driven by : 2022 a net loss of $ 4.9 billion relating to complex derivative contracts , 2013 such as those linked to credit , equity and commodity exposures . these losses include both realized and unrealized losses during 2009 and are partially offset by gains recognized in instruments that have been classified in levels 1 and 2 ; and net increase in derivative assets of $ 4.3 billion , which includes cash 2013 settlements of derivative contracts in an unrealized loss position , notably those linked to subprime exposures . the decrease in level 3 investments of $ 6.9 billion primarily 2022 resulted from : a reduction of $ 5.0 billion , due mainly to paydowns on debt 2013 securities and sales of private equity investments ; the net transfer of investment securities from level 3 to level 2 2013 of $ 1.5 billion , due to increased availability of observable pricing inputs ; and net losses recognized of $ 0.4 billion due mainly to losses on non- 2013 marketable equity securities including write-downs on private equity investments . the decrease in securities sold under agreements to repurchase of 2022 $ 9.1 billion is driven by a $ 8.6 billion net transfers from level 3 to level 2 as effective maturity dates on structured repos have shortened . the decrease in long-term debt of $ 1.5 billion is driven mainly by 2022 $ 1.3 billion of net terminations of structured notes . transfers between level 1 and level 2 of the fair value hierarchy the company did not have any significant transfers of assets or liabilities between levels 1 and 2 of the fair value hierarchy during 2010 . items measured at fair value on a nonrecurring basis certain assets and liabilities are measured at fair value on a nonrecurring basis and therefore are not included in the tables above . these include assets measured at cost that have been written down to fair value during the periods as a result of an impairment . in addition , these assets include loans held-for-sale that are measured at locom that were recognized at fair value below cost at the end of the period . the fair value of loans measured on a locom basis is determined where possible using quoted secondary-market prices . such loans are generally classified as level 2 of the fair value hierarchy given the level of activity in the market and the frequency of available quotes . if no such quoted price exists , the fair value of a loan is determined using quoted prices for a similar asset or assets , adjusted for the specific attributes of that loan . the following table presents all loans held-for-sale that are carried at locom as of december 31 , 2010 and 2009 : in billions of dollars aggregate cost fair value level 2 level 3 .\n",
      "|in billions of dollars|aggregate cost|fair value|level 2|level 3|\n",
      "|december 31 2010|$ 3.1|$ 2.5|$ 0.7|$ 1.8|\n",
      "|december 31 2009|$ 2.5|$ 1.6|$ 0.3|$ 1.3|\n",
      ".\n",
      "Question: what was the growth rate of the loans held-for-sale that are carried at locom from 2009 to 2010\n",
      "Answer:\n",
      "0.97656\n"
     ]
    }
   ],
   "source": [
    "entry = dataset['train'][5]\n",
    "query = entry[\"query\"]\n",
    "answer = entry[\"answer\"]\n",
    "\n",
    "print(query)\n",
    "print(answer)"
   ]
  },
  {
   "cell_type": "code",
   "execution_count": 15,
   "metadata": {},
   "outputs": [],
   "source": [
    "flare_finqa_df = pd.DataFrame(dataset['train'])\n",
    "flare_finqa_df.to_csv('../data/flare_finqa_train.csv', index=False) \n",
    "flare_finqa_df = pd.DataFrame(dataset['valid'])\n",
    "flare_finqa_df.to_csv('../data/flare_finqa_valid.csv', index=False)\n",
    "flare_finqa_df = pd.DataFrame(dataset['test'])\n",
    "flare_finqa_df.to_csv('../data/flare_finqa_test.csv', index=False) "
   ]
  },
  {
   "cell_type": "markdown",
   "metadata": {},
   "source": [
    "You can also directly download the HF datasets, using Github LFS and read the parquet files. See the example below:\n",
    "\n",
    "```python\n",
    "import pyarrow.parquet as pq\n",
    "\n",
    "# columns=['col1', 'col2'] to restrict loaded columns\n",
    "pds = pq.read_pandas('../data/flare-finqa/data/train.parquet', columns=None).to_pandas()\n",
    "\n",
    "# path_or_buf='output.jsonl.gz' to output to a file instead of stdout\n",
    "pds.to_json(path_or_buf=\"../data/flare_finqa_train.json\", orient='records', lines=True, date_format='iso', date_unit='us', compression='gzip')\n",
    "```"
   ]
  },
  {
   "cell_type": "markdown",
   "metadata": {},
   "source": [
    "# ConvFinQA Dataset\n",
    "\n",
    "Homepage: <https://github.com/czyssrs/ConvFinQA>\n",
    "\n",
    "From the creators of the FinQA, this dataset still aims to improve \"numerical reasoning\" skills of language models, presented in a conversational format."
   ]
  },
  {
   "cell_type": "code",
   "execution_count": 24,
   "metadata": {},
   "outputs": [
    {
     "name": "stdout",
     "output_type": "stream",
     "text": [
      "--2024-03-13 18:38:12--  https://github.com/czyssrs/ConvFinQA/raw/main/data.zip\n",
      "Resolving github.com (github.com)... 140.82.121.4\n",
      "Connecting to github.com (github.com)|140.82.121.4|:443... connected.\n",
      "HTTP request sent, awaiting response... 302 Found\n",
      "Location: https://raw.githubusercontent.com/czyssrs/ConvFinQA/main/data.zip [following]\n",
      "--2024-03-13 18:38:13--  https://raw.githubusercontent.com/czyssrs/ConvFinQA/main/data.zip\n",
      "Resolving raw.githubusercontent.com (raw.githubusercontent.com)... 185.199.109.133, 185.199.110.133, 185.199.111.133, ...\n",
      "Connecting to raw.githubusercontent.com (raw.githubusercontent.com)|185.199.109.133|:443... connected.\n",
      "HTTP request sent, awaiting response... 200 OK\n",
      "Length: 17512756 (17M) [application/zip]\n",
      "Saving to: 'data/convfinqa/data.zip'\n",
      "\n",
      "data/convfinqa/data 100%[===================>]  16.70M  24.2MB/s    in 0.7s    \n",
      "\n",
      "2024-03-13 18:38:15 (24.2 MB/s) - 'data/convfinqa/data.zip' saved [17512756/17512756]\n",
      "\n",
      "Archive:  data/convfinqa/data.zip\n",
      "   creating: data/convfinqa/data/\n",
      "  inflating: data/convfinqa/data/test_private.json  \n",
      "  inflating: data/convfinqa/data/train.json  \n",
      "  inflating: data/convfinqa/data/dev_turn.json  \n",
      "  inflating: data/convfinqa/data/test_turn_private.json  \n",
      "  inflating: data/convfinqa/data/train_turn.json  \n",
      "  inflating: data/convfinqa/data/dev.json  \n"
     ]
    }
   ],
   "source": [
    "!mkdir ../data/convfinqa\n",
    "!wget -O ../data/convfinqa/data.zip https://github.com/czyssrs/ConvFinQA/raw/main/data.zip #Approximate Size: 17MB\n",
    "!unzip ../data/convfinqa/data.zip -d data/convfinqa\n",
    "!rm ../data/convfinqa/data.zip"
   ]
  },
  {
   "cell_type": "code",
   "execution_count": 25,
   "metadata": {},
   "outputs": [
    {
     "data": {
      "text/html": [
       "<div>\n",
       "<style scoped>\n",
       "    .dataframe tbody tr th:only-of-type {\n",
       "        vertical-align: middle;\n",
       "    }\n",
       "\n",
       "    .dataframe tbody tr th {\n",
       "        vertical-align: top;\n",
       "    }\n",
       "\n",
       "    .dataframe thead th {\n",
       "        text-align: right;\n",
       "    }\n",
       "</style>\n",
       "<table border=\"1\" class=\"dataframe\">\n",
       "  <thead>\n",
       "    <tr style=\"text-align: right;\">\n",
       "      <th></th>\n",
       "      <th>pre_text</th>\n",
       "      <th>post_text</th>\n",
       "      <th>filename</th>\n",
       "      <th>table_ori</th>\n",
       "      <th>table</th>\n",
       "      <th>qa</th>\n",
       "      <th>id</th>\n",
       "      <th>annotation</th>\n",
       "      <th>qa_0</th>\n",
       "      <th>qa_1</th>\n",
       "    </tr>\n",
       "  </thead>\n",
       "  <tbody>\n",
       "    <tr>\n",
       "      <th>0</th>\n",
       "      <td>[26 | 2009 annual report in fiscal 2008 , reve...</td>\n",
       "      <td>[year ended june 30 , cash provided by operati...</td>\n",
       "      <td>JKHY/2009/page_28.pdf</td>\n",
       "      <td>[[, Year ended June 30, 2009], [2008, 2007], [...</td>\n",
       "      <td>[[2008, year ended june 30 2009 2008, year end...</td>\n",
       "      <td>{'question': 'what was the percentage change i...</td>\n",
       "      <td>Single_JKHY/2009/page_28.pdf-3</td>\n",
       "      <td>{'amt_table': '&lt;table class='wikitable'&gt;&lt;tr&gt;&lt;t...</td>\n",
       "      <td>NaN</td>\n",
       "      <td>NaN</td>\n",
       "    </tr>\n",
       "    <tr>\n",
       "      <th>1</th>\n",
       "      <td>[substantially all of the goodwill and other i...</td>\n",
       "      <td>[the above unaudited pro forma financial infor...</td>\n",
       "      <td>RSG/2008/page_114.pdf</td>\n",
       "      <td>[[, Year Ended December 31, 2008 (Unaudited), ...</td>\n",
       "      <td>[[, year ended december 31 2008 ( unaudited ),...</td>\n",
       "      <td>{'question': 'what was the percent of the grow...</td>\n",
       "      <td>Single_RSG/2008/page_114.pdf-2</td>\n",
       "      <td>{'amt_table': '&lt;table class='wikitable'&gt;&lt;tr&gt;&lt;t...</td>\n",
       "      <td>NaN</td>\n",
       "      <td>NaN</td>\n",
       "    </tr>\n",
       "    <tr>\n",
       "      <th>2</th>\n",
       "      <td>[in a new business model such as the retail se...</td>\n",
       "      <td>[.]</td>\n",
       "      <td>AAPL/2002/page_23.pdf</td>\n",
       "      <td>[[, 2002, 2001, 2000], [Net sales, $5,742, $5,...</td>\n",
       "      <td>[[, 2002, 2001, 2000], [net sales, $ 5742, $ 5...</td>\n",
       "      <td>{'question': 'what was the percentage change i...</td>\n",
       "      <td>Single_AAPL/2002/page_23.pdf-1</td>\n",
       "      <td>{'amt_table': '&lt;table class='wikitable'&gt;&lt;tr&gt;&lt;t...</td>\n",
       "      <td>NaN</td>\n",
       "      <td>NaN</td>\n",
       "    </tr>\n",
       "    <tr>\n",
       "      <th>3</th>\n",
       "      <td>[( 1 ) includes shares repurchased through our...</td>\n",
       "      <td>[.]</td>\n",
       "      <td>UPS/2009/page_33.pdf</td>\n",
       "      <td>[[, 12/31/04, 12/31/05, 12/31/06, 12/31/07, 12...</td>\n",
       "      <td>[[, 12/31/04, 12/31/05, 12/31/06, 12/31/07, 12...</td>\n",
       "      <td>{'question': 'what was the difference in perce...</td>\n",
       "      <td>Single_UPS/2009/page_33.pdf-2</td>\n",
       "      <td>{'amt_table': '&lt;table class='wikitable'&gt;&lt;tr&gt;&lt;t...</td>\n",
       "      <td>NaN</td>\n",
       "      <td>NaN</td>\n",
       "    </tr>\n",
       "    <tr>\n",
       "      <th>4</th>\n",
       "      <td>[( 1 ) includes shares repurchased through our...</td>\n",
       "      <td>[.]</td>\n",
       "      <td>UPS/2009/page_33.pdf</td>\n",
       "      <td>[[, 12/31/04, 12/31/05, 12/31/06, 12/31/07, 12...</td>\n",
       "      <td>[[, 12/31/04, 12/31/05, 12/31/06, 12/31/07, 12...</td>\n",
       "      <td>NaN</td>\n",
       "      <td>Double_UPS/2009/page_33.pdf</td>\n",
       "      <td>{'amt_table': '&lt;table class='wikitable'&gt;&lt;tr&gt;&lt;t...</td>\n",
       "      <td>{'question': 'what is the roi of an investment...</td>\n",
       "      <td>{'question': 'what was the difference in perce...</td>\n",
       "    </tr>\n",
       "  </tbody>\n",
       "</table>\n",
       "</div>"
      ],
      "text/plain": [
       "                                            pre_text  \\\n",
       "0  [26 | 2009 annual report in fiscal 2008 , reve...   \n",
       "1  [substantially all of the goodwill and other i...   \n",
       "2  [in a new business model such as the retail se...   \n",
       "3  [( 1 ) includes shares repurchased through our...   \n",
       "4  [( 1 ) includes shares repurchased through our...   \n",
       "\n",
       "                                           post_text               filename  \\\n",
       "0  [year ended june 30 , cash provided by operati...  JKHY/2009/page_28.pdf   \n",
       "1  [the above unaudited pro forma financial infor...  RSG/2008/page_114.pdf   \n",
       "2                                                [.]  AAPL/2002/page_23.pdf   \n",
       "3                                                [.]   UPS/2009/page_33.pdf   \n",
       "4                                                [.]   UPS/2009/page_33.pdf   \n",
       "\n",
       "                                           table_ori  \\\n",
       "0  [[, Year ended June 30, 2009], [2008, 2007], [...   \n",
       "1  [[, Year Ended December 31, 2008 (Unaudited), ...   \n",
       "2  [[, 2002, 2001, 2000], [Net sales, $5,742, $5,...   \n",
       "3  [[, 12/31/04, 12/31/05, 12/31/06, 12/31/07, 12...   \n",
       "4  [[, 12/31/04, 12/31/05, 12/31/06, 12/31/07, 12...   \n",
       "\n",
       "                                               table  \\\n",
       "0  [[2008, year ended june 30 2009 2008, year end...   \n",
       "1  [[, year ended december 31 2008 ( unaudited ),...   \n",
       "2  [[, 2002, 2001, 2000], [net sales, $ 5742, $ 5...   \n",
       "3  [[, 12/31/04, 12/31/05, 12/31/06, 12/31/07, 12...   \n",
       "4  [[, 12/31/04, 12/31/05, 12/31/06, 12/31/07, 12...   \n",
       "\n",
       "                                                  qa  \\\n",
       "0  {'question': 'what was the percentage change i...   \n",
       "1  {'question': 'what was the percent of the grow...   \n",
       "2  {'question': 'what was the percentage change i...   \n",
       "3  {'question': 'what was the difference in perce...   \n",
       "4                                                NaN   \n",
       "\n",
       "                               id  \\\n",
       "0  Single_JKHY/2009/page_28.pdf-3   \n",
       "1  Single_RSG/2008/page_114.pdf-2   \n",
       "2  Single_AAPL/2002/page_23.pdf-1   \n",
       "3   Single_UPS/2009/page_33.pdf-2   \n",
       "4     Double_UPS/2009/page_33.pdf   \n",
       "\n",
       "                                          annotation  \\\n",
       "0  {'amt_table': '<table class='wikitable'><tr><t...   \n",
       "1  {'amt_table': '<table class='wikitable'><tr><t...   \n",
       "2  {'amt_table': '<table class='wikitable'><tr><t...   \n",
       "3  {'amt_table': '<table class='wikitable'><tr><t...   \n",
       "4  {'amt_table': '<table class='wikitable'><tr><t...   \n",
       "\n",
       "                                                qa_0  \\\n",
       "0                                                NaN   \n",
       "1                                                NaN   \n",
       "2                                                NaN   \n",
       "3                                                NaN   \n",
       "4  {'question': 'what is the roi of an investment...   \n",
       "\n",
       "                                                qa_1  \n",
       "0                                                NaN  \n",
       "1                                                NaN  \n",
       "2                                                NaN  \n",
       "3                                                NaN  \n",
       "4  {'question': 'what was the difference in perce...  "
      ]
     },
     "execution_count": 25,
     "metadata": {},
     "output_type": "execute_result"
    }
   ],
   "source": [
    "convfinqa_train = pd.read_json('../data/convfinqa/data/train.json')\n",
    "convfinqa_train.head()"
   ]
  },
  {
   "cell_type": "code",
   "execution_count": 34,
   "metadata": {},
   "outputs": [
    {
     "name": "stdout",
     "output_type": "stream",
     "text": [
      "what was the percentage change in the net cash from operating activities from 2008 to 2009\n",
      "[['2008', 'year ended june 30 2009 2008', 'year ended june 30 2009 2008', 'year ended june 30 2009'], ['net income', '$ 103102', '$ 104222', '$ 104681'], ['non-cash expenses', '74397', '70420', '56348'], ['change in receivables', '21214', '-2913 ( 2913 )', '-28853 ( 28853 )'], ['change in deferred revenue', '21943', '5100', '24576'], ['change in other assets and liabilities', '-14068 ( 14068 )', '4172', '17495'], ['net cash from operating activities', '$ 206588', '$ 181001', '$ 174247']]\n",
      "['26 | 2009 annual report in fiscal 2008 , revenues in the credit union systems and services business segment increased 14% ( 14 % ) from fiscal 2007 .', 'all revenue components within the segment experienced growth during fiscal 2008 .', 'license revenue generated the largest dollar growth in revenue as episys ae , our flagship core processing system aimed at larger credit unions , experienced strong sales throughout the year .', 'support and service revenue , which is the largest component of total revenues for the credit union segment , experienced 34 percent growth in eft support and 10 percent growth in in-house support .', 'gross profit in this business segment increased $ 9344 in fiscal 2008 compared to fiscal 2007 , due primarily to the increase in license revenue , which carries the highest margins .', 'liquidity and capital resources we have historically generated positive cash flow from operations and have generally used funds generated from operations and short-term borrowings on our revolving credit facility to meet capital requirements .', 'we expect this trend to continue in the future .', 'the company 2019s cash and cash equivalents increased to $ 118251 at june 30 , 2009 from $ 65565 at june 30 , 2008 .', 'the following table summarizes net cash from operating activities in the statement of cash flows : 2009 2008 2007 .']\n",
      "['year ended june 30 , cash provided by operations increased $ 25587 to $ 206588 for the fiscal year ended june 30 , 2009 as compared to $ 181001 for the fiscal year ended june 30 , 2008 .', 'this increase is primarily attributable to a decrease in receivables compared to the same period a year ago of $ 21214 .', 'this decrease is largely the result of fiscal 2010 annual software maintenance billings being provided to customers earlier than in the prior year , which allowed more cash to be collected before the end of the fiscal year than in previous years .', 'further , we collected more cash overall related to revenues that will be recognized in subsequent periods in the current year than in fiscal 2008 .', 'cash used in investing activities for the fiscal year ended june 2009 was $ 59227 and includes $ 3027 in contingent consideration paid on prior years 2019 acquisitions .', 'cash used in investing activities for the fiscal year ended june 2008 was $ 102148 and includes payments for acquisitions of $ 48109 , plus $ 1215 in contingent consideration paid on prior years 2019 acquisitions .', 'capital expenditures for fiscal 2009 were $ 31562 compared to $ 31105 for fiscal 2008 .', 'cash used for software development in fiscal 2009 was $ 24684 compared to $ 23736 during the prior year .', 'net cash used in financing activities for the current fiscal year was $ 94675 and includes the repurchase of 3106 shares of our common stock for $ 58405 , the payment of dividends of $ 26903 and $ 13489 net repayment on our revolving credit facilities .', 'cash used in financing activities was partially offset by proceeds of $ 3773 from the exercise of stock options and the sale of common stock ( through the employee stock purchase plan ) and $ 348 excess tax benefits from stock option exercises .', 'during fiscal 2008 , net cash used in financing activities for the fiscal year was $ 101905 and includes the repurchase of 4200 shares of our common stock for $ 100996 , the payment of dividends of $ 24683 and $ 429 net repayment on our revolving credit facilities .', 'cash used in financing activities was partially offset by proceeds of $ 20394 from the exercise of stock options and the sale of common stock and $ 3809 excess tax benefits from stock option exercises .', 'beginning during fiscal 2008 , us financial markets and many of the largest us financial institutions have been shaken by negative developments in the home mortgage industry and the mortgage markets , and particularly the markets for subprime mortgage-backed securities .', 'since that time , these and other such developments have resulted in a broad , global economic downturn .', 'while we , as is the case with most companies , have experienced the effects of this downturn , we have not experienced any significant issues with our current collection efforts , and we believe that any future impact to our liquidity will be minimized by cash generated by recurring sources of revenue and due to our access to available lines of credit. .']\n"
     ]
    }
   ],
   "source": [
    "entry = convfinqa_train.iloc[0]\n",
    "question = entry[\"qa\"][\"question\"]\n",
    "pre_text = entry[\"pre_text\"]\n",
    "table = entry[\"table\"]\n",
    "post_text = entry[\"post_text\"]\n",
    "\n",
    "print(question)\n",
    "print(table)\n",
    "print(pre_text)\n",
    "print(post_text)"
   ]
  },
  {
   "cell_type": "markdown",
   "metadata": {},
   "source": [
    "# FLARE ConvFinQA\n",
    "\n",
    "Similar to other FLARE datasets, it is the prompt-ready version of the ConvFinQA dataset."
   ]
  },
  {
   "cell_type": "code",
   "execution_count": 26,
   "metadata": {},
   "outputs": [
    {
     "name": "stderr",
     "output_type": "stream",
     "text": [
      "Downloading readme: 100%|██████████| 622/622 [00:00<00:00, 6.27MB/s]\n",
      "Downloading data: 100%|██████████| 8.35M/8.35M [00:06<00:00, 1.36MB/s]\n",
      "Downloading data: 100%|██████████| 1.35M/1.35M [00:01<00:00, 996kB/s]\n",
      "Downloading data: 100%|██████████| 2.10M/2.10M [00:01<00:00, 1.49MB/s]\n",
      "Generating train split: 100%|██████████| 8891/8891 [00:00<00:00, 169552.55 examples/s]\n",
      "Generating test split: 100%|██████████| 1490/1490 [00:00<00:00, 177065.11 examples/s]\n",
      "Generating valid split: 100%|██████████| 2213/2213 [00:00<00:00, 142885.65 examples/s]\n"
     ]
    }
   ],
   "source": [
    "dataset = load_dataset(\"ChanceFocus/flare-convfinqa\") #Approximate Size: 12 MB"
   ]
  },
  {
   "cell_type": "code",
   "execution_count": 29,
   "metadata": {},
   "outputs": [
    {
     "name": "stdout",
     "output_type": "stream",
     "text": [
      "In the context of this series of interconnected finance-related queries and the additional information provided by the pretext, table data, and posttext from a company's financial filings, please provide a response to the final question. This may require extracting information from the context and performing mathematical calculations. Please take into account the information provided in the preceding questions and their answers when formulating your response:\n",
      "Context: 26 | 2009 annual report in fiscal 2008 , revenues in the credit union systems and services business segment increased 14% ( 14 % ) from fiscal 2007 . all revenue components within the segment experienced growth during fiscal 2008 . license revenue generated the largest dollar growth in revenue as episys ae , our flagship core processing system aimed at larger credit unions , experienced strong sales throughout the year . support and service revenue , which is the largest component of total revenues for the credit union segment , experienced 34 percent growth in eft support and 10 percent growth in in-house support . gross profit in this business segment increased $ 9344 in fiscal 2008 compared to fiscal 2007 , due primarily to the increase in license revenue , which carries the highest margins . liquidity and capital resources we have historically generated positive cash flow from operations and have generally used funds generated from operations and short-term borrowings on our revolving credit facility to meet capital requirements . we expect this trend to continue in the future . the company 2019s cash and cash equivalents increased to $ 118251 at june 30 , 2009 from $ 65565 at june 30 , 2008 . the following table summarizes net cash from operating activities in the statement of cash flows : 2009 2008 2007 . <table class='wikitable'><tr><td>1</td><td>2008</td><td>year ended june 30 2009 2008</td><td>year ended june 30 2009 2008</td><td>year ended june 30 2009</td></tr><tr><td>2</td><td>net income</td><td>$ 103102</td><td>$ 104222</td><td>$ 104681</td></tr><tr><td>3</td><td>non-cash expenses</td><td>74397</td><td>70420</td><td>56348</td></tr><tr><td>4</td><td>change in receivables</td><td>21214</td><td>-2913 ( 2913 )</td><td>-28853 ( 28853 )</td></tr><tr><td>5</td><td>change in deferred revenue</td><td>21943</td><td>5100</td><td>24576</td></tr><tr><td>6</td><td>change in other assets and liabilities</td><td>-14068 ( 14068 )</td><td>4172</td><td>17495</td></tr><tr><td>7</td><td>net cash from operating activities</td><td>$ 206588</td><td>$ 181001</td><td>$ 174247</td></tr></table> year ended june 30 , cash provided by operations increased $ 25587 to $ 206588 for the fiscal year ended june 30 , 2009 as compared to $ 181001 for the fiscal year ended june 30 , 2008 . this increase is primarily attributable to a decrease in receivables compared to the same period a year ago of $ 21214 . this decrease is largely the result of fiscal 2010 annual software maintenance billings being provided to customers earlier than in the prior year , which allowed more cash to be collected before the end of the fiscal year than in previous years . further , we collected more cash overall related to revenues that will be recognized in subsequent periods in the current year than in fiscal 2008 . cash used in investing activities for the fiscal year ended june 2009 was $ 59227 and includes $ 3027 in contingent consideration paid on prior years 2019 acquisitions . cash used in investing activities for the fiscal year ended june 2008 was $ 102148 and includes payments for acquisitions of $ 48109 , plus $ 1215 in contingent consideration paid on prior years 2019 acquisitions . capital expenditures for fiscal 2009 were $ 31562 compared to $ 31105 for fiscal 2008 . cash used for software development in fiscal 2009 was $ 24684 compared to $ 23736 during the prior year . net cash used in financing activities for the current fiscal year was $ 94675 and includes the repurchase of 3106 shares of our common stock for $ 58405 , the payment of dividends of $ 26903 and $ 13489 net repayment on our revolving credit facilities . cash used in financing activities was partially offset by proceeds of $ 3773 from the exercise of stock options and the sale of common stock ( through the employee stock purchase plan ) and $ 348 excess tax benefits from stock option exercises . during fiscal 2008 , net cash used in financing activities for the fiscal year was $ 101905 and includes the repurchase of 4200 shares of our common stock for $ 100996 , the payment of dividends of $ 24683 and $ 429 net repayment on our revolving credit facilities . cash used in financing activities was partially offset by proceeds of $ 20394 from the exercise of stock options and the sale of common stock and $ 3809 excess tax benefits from stock option exercises . beginning during fiscal 2008 , us financial markets and many of the largest us financial institutions have been shaken by negative developments in the home mortgage industry and the mortgage markets , and particularly the markets for subprime mortgage-backed securities . since that time , these and other such developments have resulted in a broad , global economic downturn . while we , as is the case with most companies , have experienced the effects of this downturn , we have not experienced any significant issues with our current collection efforts , and we believe that any future impact to our liquidity will be minimized by cash generated by recurring sources of revenue and due to our access to available lines of credit. .\n",
      "Conversations: \n",
      "Question: what is the net cash from operating activities in 2009?\n",
      "Answer:\n",
      "206588.0\n"
     ]
    }
   ],
   "source": [
    "entry = dataset['train'][0]\n",
    "query = entry[\"query\"]\n",
    "answer = entry[\"answer\"]\n",
    "\n",
    "print(query)\n",
    "print(answer)"
   ]
  },
  {
   "cell_type": "markdown",
   "metadata": {},
   "source": [
    "# IBM FinTabNet\n",
    "\n",
    "Homepage: [IBM FinTabNet](https://developer.ibm.com/exchanges/data/all/fintabnet/)\n",
    "Data Exploration Notebook: [IBM - Fintabnet - EDA](https://dataplatform.cloud.ibm.com/analytics/notebooks/v2/f57cf3f6-e972-48ff-ab7b-3771ba7b9683/view?access_token=317644327d84f5d75b4782f97499146c78d029651a7c7ace050f4a7656033c30)\n",
    "\n",
    "The IBM FinTabNet dataset is a large scale dataset for financial table to text generation. It has been created by IBM Research AI. You can download the dataset by uncommenting the following commands. The dataset size is 16GB. And the sister project SynthTabNet (synthetically generated documents) is 10GB in size."
   ]
  },
  {
   "cell_type": "code",
   "execution_count": null,
   "metadata": {},
   "outputs": [],
   "source": [
    "#!wget -O ../data/fintabnet.tar.gz https://dax-cdn.cdn.appdomain.cloud/dax-fintabnet/1.0.0/fintabnet.tar.gz #Approximate Size: 16GB\n",
    "\n",
    "# FinTabNet consists of real public documents. SynthTabNet is another dataset from synthetically generated table layouts with annotations in jsonl files. If you want to work with synthetic data, you can download the SynthTabNet dataset from the following link:\n",
    "\n",
    "#!wget -O ../data/synthtabnet.tar.gz https://ds4sd-public-artifacts.s3.eu-de.cloud-object-storage.appdomain.cloud/datasets/synthtabnet_public/v2.0.0/fintabnet.zip #Approximate Size: 10GB"
   ]
  },
  {
   "cell_type": "code",
   "execution_count": null,
   "metadata": {},
   "outputs": [],
   "source": [
    "# Uncomment the following code to extract the dataset\n",
    "\"\"\"\n",
    "import tarfile\n",
    "from os import path\n",
    "\n",
    "#Extracting the dataset\n",
    "tar = tarfile.open(\"../data/fintabnet.tar.gz\") \n",
    "if hasattr(tarfile, 'data_filter'):\n",
    "    tar.extractall(filter='data')\n",
    "else:\n",
    "    # remove this when no longer needed\n",
    "    print('Extracting may be unsafe; consider updating Python')\n",
    "    tar.extractall()\n",
    "tar.close()\n",
    "\n",
    "# Verifying the file was extracted properly\n",
    "data_path = \"examples/\"\n",
    "path.exists(data_path)\n",
    "\"\"\""
   ]
  },
  {
   "cell_type": "code",
   "execution_count": 4,
   "metadata": {},
   "outputs": [],
   "source": [
    "# Parse the JSON file and read all the images and labels\n",
    "import json\n",
    "\n",
    "# Download the example file from using:\n",
    "# !wget https://dax-cdn.cdn.appdomain.cloud/dax-fintabnet/1.0.0/examples.tar.gz ./data/fintabnet-examples.tar.gz\n",
    "\n",
    "with open('../data/fintabnet-examples/FinTabNet_1.0.0_table_example.jsonl', 'r') as fp:\n",
    "    images = {}\n",
    "    for line in fp:\n",
    "        sample = json.loads(line)\n",
    "        # Index images\n",
    "        if sample['filename'] in images:\n",
    "            annotations = images[sample['filename']][\"annotations\"]\n",
    "            html = images[sample['filename']][\"html\"]\n",
    "        else:\n",
    "            annotations = []\n",
    "            html = \"\"\n",
    "        for t, token in enumerate(sample[\"html\"][\"cells\"]):\n",
    "            if \"bbox\" in token:\n",
    "                annotations.append({\"category_id\":2, \"bbox\": token[\"bbox\"]})\n",
    "        #Build html table\n",
    "        cnt = 0\n",
    "        for t, token in enumerate(sample[\"html\"][\"structure\"][\"tokens\"]):\n",
    "            html += token\n",
    "            if token==\"<td>\":\n",
    "                html += \"\".join(sample[\"html\"][\"cells\"][cnt][\"tokens\"])\n",
    "                cnt += 1\n",
    "        annotations.append({\"category_id\": 1, \"bbox\": sample[\"bbox\"]})\n",
    "        images[sample['filename']] = {'filepath': '../data/fintabnet-examples/pdf/' + sample[\"filename\"], 'html': html, 'annotations': annotations}"
   ]
  },
  {
   "cell_type": "code",
   "execution_count": 6,
   "metadata": {},
   "outputs": [
    {
     "name": "stdout",
     "output_type": "stream",
     "text": [
      "Table HTML for page #0\n"
     ]
    },
    {
     "data": {
      "text/html": [
       "<table><tr><td></td><td>2017</td><td>2016</td><td>2015</td></tr><tr><td>Minimum rentals</td><td>$2,814</td><td>$2,394</td><td>$2,249</td></tr><tr><td>Contingent rentals<sup>(1)</sup></td><td>178</td><td>214</td><td>194</td></tr><tr><td></td><td>$2,992</td><td>$2,608</td><td>$2,443</td></tr></table><table><tr><td></td><td colspan=\"3\"></td></tr><tr><td>Operating Leases</td><td></td><td>Aircraftand RelatedEquipment</td><td>Facilitiesand Other</td></tr><tr><td>TotalOperatingLeases</td><td>2018</td><td>$398</td><td>$2,047</td></tr><tr><td>$2,445</td><td>2019</td><td>343</td><td>1,887</td></tr><tr><td>2,230</td><td>2020</td><td>261</td><td>1,670</td></tr><tr><td>1,931</td><td>2021</td><td>203</td><td>1,506</td></tr><tr><td>1,709</td><td>2022</td><td>185</td><td>1,355</td></tr><tr><td>1,540</td><td>Thereafter</td><td>175</td><td>7,844</td></tr><tr><td>8,019</td><td>Total</td><td>$1,565</td><td>$16,309</td></tr></table>"
      ],
      "text/plain": [
       "<IPython.core.display.HTML object>"
      ]
     },
     "metadata": {},
     "output_type": "display_data"
    },
    {
     "name": "stdout",
     "output_type": "stream",
     "text": [
      "Table HTML for page #1\n"
     ]
    },
    {
     "data": {
      "text/html": [
       "<table><tr><td></td><td colspan=\"3\"></td><td>Amount Reclassified from AOCI</td></tr><tr><td>Affected Line Item in theIncome Statement</td><td></td><td>2017</td><td>2016</td><td>2015</td></tr><tr><td></td><td>Amortization of retirement plans prior servicecredits, before tax</td><td>$120</td><td>$121</td><td>$115</td></tr><tr><td>Salaries and employee benefits</td><td>Income tax benefit</td><td>(44)</td><td>(45)</td><td>(43)</td></tr><tr><td>Provision for income taxes</td><td>AOCI reclassifications, net of tax</td><td>$76</td><td>$76</td><td>$72</td></tr></table><table><tr><td></td><td>2017</td><td>2016</td><td>2015</td></tr><tr><td>Foreign currency translation gain (loss):</td><td></td><td></td><td></td></tr><tr><td>Balance at beginning of period</td><td>$(514)</td><td>$(253)</td><td>$81</td></tr><tr><td>Translation adjustments</td><td>(171)</td><td>(261)</td><td>(334)</td></tr><tr><td>Balance at end of period</td><td>(685)</td><td>(514)</td><td>(253)</td></tr><tr><td>Retirement plans adjustments:</td><td></td><td></td><td></td></tr><tr><td>Balance at beginning of period</td><td>345</td><td>425</td><td>425</td></tr><tr><td>Prior service credit and other arising during period</td><td>1</td><td>(4)</td><td>72</td></tr><tr><td>Reclassifications from AOCI</td><td>(76)</td><td>(76)</td><td>(72)</td></tr><tr><td>Balance at end of period</td><td>270</td><td>345</td><td>425</td></tr><tr><td>Accumulated other comprehensive (loss) income at end of period</td><td>$(415)</td><td>$(169)</td><td>$172</td></tr></table>"
      ],
      "text/plain": [
       "<IPython.core.display.HTML object>"
      ]
     },
     "metadata": {},
     "output_type": "display_data"
    },
    {
     "name": "stdout",
     "output_type": "stream",
     "text": [
      "Table HTML for page #2\n"
     ]
    },
    {
     "data": {
      "text/html": [
       "<table><tr><td>2018</td><td>$81</td></tr><tr><td>2019</td><td>71</td></tr><tr><td>2020</td><td>55</td></tr><tr><td>2021</td><td>44</td></tr><tr><td>2022</td><td>41</td></tr></table><table><tr><td></td><td colspan=\"3\"></td><td colspan=\"3\"></td></tr><tr><td>2017</td><td>2016</td><td></td><td>GrossCarryingAmount</td><td>Accumulated Amortization</td><td>Net BookValue</td><td>GrossCarryingAmount</td></tr><tr><td>Accumulated Amortization</td><td>Net BookValue</td><td>Customer relationships</td><td>$656</td><td>$(203)</td><td>$453</td><td>$912</td></tr><tr><td>$(156)</td><td>$756</td><td>Technology</td><td>54</td><td>(26)</td><td>28</td><td>123</td></tr><tr><td>(16)</td><td>107</td><td>Trademarks and other</td><td>136</td><td>(88)</td><td>48</td><td>202</td></tr><tr><td>(57)</td><td>145</td><td>Total</td><td>$846</td><td>$(317)</td><td>$529</td><td>$1,237</td></tr></table><table><tr><td></td><td>2017</td><td>2016</td></tr><tr><td>Accrued Salaries and Employee Benefits</td><td></td><td></td></tr><tr><td>Salaries</td><td>$431</td><td>$478</td></tr><tr><td>Employee benefits, including variable compensation</td><td>781</td><td>804</td></tr><tr><td>Compensated absences</td><td>702</td><td>690</td></tr><tr><td></td><td>$1,914</td><td>$1,972</td></tr><tr><td>Accrued Expenses</td><td></td><td></td></tr><tr><td>Self-insurance accruals</td><td>$976</td><td>$837</td></tr><tr><td>Taxes other than income taxes</td><td>283</td><td>311</td></tr><tr><td>Other</td><td>1,971</td><td>1,915</td></tr><tr><td></td><td>$3,230</td><td>$3,063</td></tr></table>"
      ],
      "text/plain": [
       "<IPython.core.display.HTML object>"
      ]
     },
     "metadata": {},
     "output_type": "display_data"
    },
    {
     "name": "stdout",
     "output_type": "stream",
     "text": [
      "Table HTML for page #3\n"
     ]
    },
    {
     "data": {
      "text/html": [
       "<table><tr><td>(in millions, except per share amounts)</td><td>FirstQuarter</td><td>SecondQuarter</td><td>ThirdQuarter</td><td>Fourth Quarter</td></tr><tr><td>2017<sup>(1)</sup></td><td></td><td></td><td></td><td></td></tr><tr><td>Revenues</td><td>$14,663</td><td>$14,931</td><td>$14,997</td><td>$15,728</td></tr><tr><td>Operating income</td><td>1,264</td><td>1,167</td><td>1,025</td><td>1,581</td></tr><tr><td>Net income</td><td>715</td><td>700</td><td>562</td><td>1,020</td></tr><tr><td>Basic earnings per common share<sup>(2)</sup></td><td>2.69</td><td>2.63</td><td>2.11</td><td>3.81</td></tr><tr><td>Diluted earnings per common share<sup>(2)</sup></td><td>2.65</td><td>2.59</td><td>2.07</td><td>3.75</td></tr><tr><td>2016<sup>(3)</sup></td><td></td><td></td><td></td><td></td></tr><tr><td>Revenues</td><td>$12,279</td><td>$12,453</td><td>$12,654</td><td>$12,979</td></tr><tr><td>Operating income (loss)</td><td>1,144</td><td>1,137</td><td>864</td><td>(68)</td></tr><tr><td>Net income (loss)</td><td>692</td><td>691</td><td>507</td><td>(70)</td></tr><tr><td>Basic earnings (loss) per common share<sup>(2)</sup></td><td>2.45</td><td>2.47</td><td>1.86</td><td>(0.26)</td></tr><tr><td>Diluted earnings (loss) per common share<sup>(2)</sup></td><td>2.42</td><td>2.44</td><td>1.84</td><td>(0.26)</td></tr></table>"
      ],
      "text/plain": [
       "<IPython.core.display.HTML object>"
      ]
     },
     "metadata": {},
     "output_type": "display_data"
    },
    {
     "name": "stdout",
     "output_type": "stream",
     "text": [
      "Table HTML for page #4\n"
     ]
    },
    {
     "data": {
      "text/html": [
       "<table><tr><td></td><td>2017</td><td>2016</td><td>2015</td></tr><tr><td>Low</td><td>3.25%</td><td>2.75%</td><td>4.50%</td></tr><tr><td>High</td><td>4.50</td><td>4.50</td><td>7.00</td></tr><tr><td>Weighted-average</td><td>4.03</td><td>3.82</td><td>5.90</td></tr></table>"
      ],
      "text/plain": [
       "<IPython.core.display.HTML object>"
      ]
     },
     "metadata": {},
     "output_type": "display_data"
    },
    {
     "name": "stdout",
     "output_type": "stream",
     "text": [
      "Table HTML for page #5\n"
     ]
    },
    {
     "data": {
      "text/html": [
       "<table><tr><td></td><td>Aircraft andAircraft Related</td><td>Other<sup>(1)</sup></td><td>Total</td></tr><tr><td>2018</td><td>$1,777</td><td>$1,440</td><td>$3,217</td></tr><tr><td>2019</td><td>1,729</td><td>508</td><td>2,237</td></tr><tr><td>2020</td><td>1,933</td><td>400</td><td>2,333</td></tr><tr><td>2021</td><td>1,341</td><td>309</td><td>1,650</td></tr><tr><td>2022</td><td>1,276</td><td>198</td><td>1,474</td></tr><tr><td>Thereafter</td><td>2,895</td><td>499</td><td>3,394</td></tr><tr><td>Total</td><td>$10,951</td><td>$3,354</td><td>$14,305</td></tr></table><table><tr><td></td><td>B767F</td><td>B777F</td><td>Total</td></tr><tr><td>2018</td><td>14</td><td>4</td><td>18</td></tr><tr><td>2019</td><td>15</td><td>2</td><td>17</td></tr><tr><td>2020</td><td>16</td><td>3</td><td>19</td></tr><tr><td>2021</td><td>10</td><td>3</td><td>13</td></tr><tr><td>2022</td><td>10</td><td>4</td><td>14</td></tr><tr><td>Thereafter</td><td>6</td><td>-</td><td>6</td></tr><tr><td>Total</td><td>71</td><td>16</td><td>87</td></tr></table>"
      ],
      "text/plain": [
       "<IPython.core.display.HTML object>"
      ]
     },
     "metadata": {},
     "output_type": "display_data"
    },
    {
     "name": "stdout",
     "output_type": "stream",
     "text": [
      "Table HTML for page #6\n"
     ]
    },
    {
     "data": {
      "text/html": [
       "<table><tr><td></td><td>2017</td><td>Percent of Revenue 2017</td></tr><tr><td>Revenues</td><td>$7,401</td><td>100.0%</td></tr><tr><td>Operating expenses:</td><td></td><td></td></tr><tr><td>Salaries and employee benefits</td><td>2,077</td><td>28.1</td></tr><tr><td>Purchased transportation</td><td>3,049</td><td>41.2</td></tr><tr><td>Rentals</td><td>353</td><td>4.8</td></tr><tr><td>Depreciation and amortization</td><td>239</td><td>3.2</td></tr><tr><td>Fuel</td><td>225</td><td>3.1</td></tr><tr><td>Maintenance and repairs</td><td>143</td><td>1.9</td></tr><tr><td>Intercompany charges</td><td>17</td><td>0.2</td></tr><tr><td>Other</td><td>1,214</td><td>16.4</td></tr><tr><td>Total operating expenses</td><td>7,317</td><td>98.9%</td></tr><tr><td>Operating income</td><td>$84</td><td></td></tr><tr><td>Operating margin</td><td>1.1%</td><td></td></tr><tr><td>Package:</td><td></td><td></td></tr><tr><td>Average daily packages</td><td>1,022</td><td></td></tr><tr><td>Revenue per package (yield)</td><td>$24.77</td><td></td></tr><tr><td>Freight:</td><td></td><td></td></tr><tr><td>Average daily pounds</td><td>3,608</td><td></td></tr><tr><td>Revenue per pound (yield)</td><td>$0.56</td><td></td></tr></table>"
      ],
      "text/plain": [
       "<IPython.core.display.HTML object>"
      ]
     },
     "metadata": {},
     "output_type": "display_data"
    },
    {
     "name": "stdout",
     "output_type": "stream",
     "text": [
      "Table HTML for page #7\n"
     ]
    },
    {
     "data": {
      "text/html": [
       "<table><tr><td></td><td colspan=\"3\"></td><td colspan=\"3\"></td></tr><tr><td>2017</td><td>2016</td><td></td><td>TotalNumber ofSharesPurchased</td><td>AveragePrice Paidper Share</td><td>TotalPurchasePrice</td><td>TotalNumber ofSharesPurchased</td></tr><tr><td>AveragePrice Paidper Share</td><td>TotalPurchasePrice</td><td>Common stock repurchases</td><td>2,955,000</td><td>$172.13</td><td>$509</td><td>18,225,000</td></tr></table>"
      ],
      "text/plain": [
       "<IPython.core.display.HTML object>"
      ]
     },
     "metadata": {},
     "output_type": "display_data"
    },
    {
     "name": "stdout",
     "output_type": "stream",
     "text": [
      "Table HTML for page #8\n"
     ]
    },
    {
     "data": {
      "text/html": [
       "<table><tr><td></td><td>2017</td><td>2016</td></tr><tr><td>Funded Status of Plans:</td><td></td><td></td></tr><tr><td>Projected benefit obligation (PBO)</td><td>$29,913</td><td>$29,602</td></tr><tr><td>Fair value of plan assets</td><td>26,312</td><td>24,271</td></tr><tr><td>Funded status of the plans</td><td>$(3,601)</td><td>$(5,331)</td></tr><tr><td>Cash Amounts:</td><td></td><td></td></tr><tr><td>Cash contributions during the year</td><td>$2,115</td><td>$726</td></tr><tr><td>Benefit payments during the year</td><td>$2,310</td><td>$912</td></tr></table><table><tr><td>MeasurementDate</td><td>Discount Rate</td></tr><tr><td>5/31/2017</td><td>4.08%</td></tr><tr><td>5/31/2016</td><td>4.13</td></tr><tr><td>5/31/2015</td><td>4.42</td></tr><tr><td>5/31/2014</td><td>4.60</td></tr></table>"
      ],
      "text/plain": [
       "<IPython.core.display.HTML object>"
      ]
     },
     "metadata": {},
     "output_type": "display_data"
    },
    {
     "name": "stdout",
     "output_type": "stream",
     "text": [
      "Table HTML for page #9\n"
     ]
    },
    {
     "data": {
      "text/html": [
       "<table><tr><td></td><td></td><td colspan=\"2\"></td></tr><tr><td>Net Book Value at May 31,</td><td></td><td>Range</td><td>2017</td></tr><tr><td>2016</td><td>Wide-body aircraft and related equipment</td><td>15 to 30 years</td><td>$9,103</td></tr><tr><td>$8,356</td><td>Narrow-body and feeder aircraft and related equipment</td><td>5 to 18 years</td><td>3,099</td></tr><tr><td>3,180</td><td>Package handling and ground support equipment</td><td>3 to 30 years</td><td>3,862</td></tr><tr><td>3,249</td><td>Information technology</td><td>2 to 10 years</td><td>1,114</td></tr><tr><td>1,051</td><td>Vehicles</td><td>3 to 15 years</td><td>3,400</td></tr><tr><td>3,084</td><td>Facilities and other</td><td>2 to 40 years</td><td>5,403</td></tr></table>"
      ],
      "text/plain": [
       "<IPython.core.display.HTML object>"
      ]
     },
     "metadata": {},
     "output_type": "display_data"
    }
   ],
   "source": [
    "import fitz  # PyMuPDF\n",
    "\n",
    "for i, (filename, image) in enumerate(images.items()):\n",
    "    pdf_document = fitz.open(image[\"filepath\"])\n",
    "    pdf_page = pdf_document[0]  # Assuming you want to work with the first page\n",
    "    pdf_width = int(pdf_page.rect.width)\n",
    "    pdf_height = int(pdf_page.rect.height)\n",
    "    img = pdf_page.get_pixmap()\n",
    "    \n",
    "    print(\"Table HTML for page #{}\".format(i))\n",
    "    display(HTML(image['html']))"
   ]
  },
  {
   "cell_type": "markdown",
   "metadata": {},
   "source": [
    "# FinTabNet OTSL\n",
    "\n",
    "An alternative format is OTSL, which is published by the same development team. https://huggingface.co/datasets/ds4sd/FinTabNet_OTSL\n",
    "This dataset is a conversion of the original FinTabNet into the OTSL format."
   ]
  },
  {
   "cell_type": "code",
   "execution_count": 17,
   "metadata": {},
   "outputs": [
    {
     "name": "stderr",
     "output_type": "stream",
     "text": [
      "Downloading data: 100%|██████████| 182M/182M [00:38<00:00, 4.66MB/s] \n",
      "Downloading data: 100%|██████████| 207M/207M [00:42<00:00, 4.84MB/s] \n",
      "Downloading data: 100%|██████████| 196M/196M [00:37<00:00, 5.24MB/s] \n",
      "Downloading data: 100%|██████████| 189M/189M [00:37<00:00, 5.08MB/s] \n",
      "Downloading data: 100%|██████████| 194M/194M [00:48<00:00, 4.04MB/s] \n",
      "Downloading data: 100%|██████████| 195M/195M [00:43<00:00, 4.44MB/s] \n",
      "Downloading data: 100%|██████████| 184M/184M [00:44<00:00, 4.17MB/s] \n",
      "Downloading data: 100%|██████████| 179M/179M [00:38<00:00, 4.63MB/s] \n",
      "Downloading data: 100%|██████████| 180M/180M [00:37<00:00, 4.85MB/s] \n",
      "Downloading data: 100%|██████████| 191M/191M [00:47<00:00, 3.97MB/s] \n",
      "Downloading data: 100%|██████████| 195M/195M [00:38<00:00, 5.09MB/s] \n",
      "Downloading data: 100%|██████████| 142M/142M [00:28<00:00, 5.00MB/s] \n",
      "Downloading data: 100%|██████████| 146M/146M [00:32<00:00, 4.49MB/s] \n",
      "Downloading data: 100%|██████████| 143M/143M [00:29<00:00, 4.78MB/s] \n",
      "Downloading data: 100%|██████████| 143M/143M [00:32<00:00, 4.34MB/s] \n",
      "Generating train split: 88441 examples [00:03, 28381.30 examples/s]\n",
      "Generating test split: 10397 examples [00:00, 31584.52 examples/s]\n",
      "Generating val split: 10505 examples [00:00, 31900.89 examples/s]\n"
     ]
    }
   ],
   "source": [
    "# Load the test dataset to explore the data (even the smaller split is 300MB)\n",
    "dataset = load_dataset(\"ds4sd/FinTabNet_OTSL\", split=\"test\") # Approximate size: 300MB"
   ]
  },
  {
   "cell_type": "code",
   "execution_count": 18,
   "metadata": {},
   "outputs": [],
   "source": [
    "df = dataset.to_pandas()"
   ]
  },
  {
   "cell_type": "code",
   "execution_count": 19,
   "metadata": {},
   "outputs": [
    {
     "data": {
      "text/html": [
       "<div>\n",
       "<style scoped>\n",
       "    .dataframe tbody tr th:only-of-type {\n",
       "        vertical-align: middle;\n",
       "    }\n",
       "\n",
       "    .dataframe tbody tr th {\n",
       "        vertical-align: top;\n",
       "    }\n",
       "\n",
       "    .dataframe thead th {\n",
       "        text-align: right;\n",
       "    }\n",
       "</style>\n",
       "<table border=\"1\" class=\"dataframe\">\n",
       "  <thead>\n",
       "    <tr style=\"text-align: right;\">\n",
       "      <th></th>\n",
       "      <th>filename</th>\n",
       "      <th>split</th>\n",
       "      <th>imgid</th>\n",
       "      <th>dataset</th>\n",
       "      <th>cells</th>\n",
       "      <th>otsl</th>\n",
       "      <th>html</th>\n",
       "      <th>html_restored</th>\n",
       "      <th>cols</th>\n",
       "      <th>rows</th>\n",
       "      <th>html_len</th>\n",
       "      <th>otsl_len</th>\n",
       "      <th>image</th>\n",
       "    </tr>\n",
       "  </thead>\n",
       "  <tbody>\n",
       "    <tr>\n",
       "      <th>0</th>\n",
       "      <td>HAL.2015.page_43.pdf_125177.png</td>\n",
       "      <td>test</td>\n",
       "      <td>125177</td>\n",
       "      <td>ftn</td>\n",
       "      <td>[[{'tokens': ['L' 'a' 'n' 'd' ' ' 'v' 's' '.' ...</td>\n",
       "      <td>[fcel, fcel, fcel, fcel, nl, fcel, ecel, ecel,...</td>\n",
       "      <td>[&lt;tr&gt;, &lt;td&gt;, &lt;/td&gt;, &lt;td&gt;, &lt;/td&gt;, &lt;td&gt;, &lt;/td&gt;, ...</td>\n",
       "      <td>[&lt;tr&gt;, &lt;td&gt;, &lt;/td&gt;, &lt;td&gt;, &lt;/td&gt;, &lt;td&gt;, &lt;/td&gt;, ...</td>\n",
       "      <td>4</td>\n",
       "      <td>32</td>\n",
       "      <td>320</td>\n",
       "      <td>160</td>\n",
       "      <td>{'bytes': b'\\x89PNG\\r\\n\\x1a\\n\\x00\\x00\\x00\\rIHD...</td>\n",
       "    </tr>\n",
       "    <tr>\n",
       "      <th>1</th>\n",
       "      <td>HAL.2009.page_77.pdf_125051.png</td>\n",
       "      <td>test</td>\n",
       "      <td>125051</td>\n",
       "      <td>ftn</td>\n",
       "      <td>[[{'tokens': [], 'bbox': [ -1   3 110  13   1]...</td>\n",
       "      <td>[ecel, fcel, lcel, lcel, nl, fcel, fcel, fcel,...</td>\n",
       "      <td>[&lt;tr&gt;, &lt;td&gt;, &lt;/td&gt;, &lt;td,  colspan=\"3\", &gt;, &lt;/td...</td>\n",
       "      <td>[&lt;tr&gt;, &lt;td&gt;, &lt;/td&gt;, &lt;td,  colspan=\"3\", &gt;, &lt;/td...</td>\n",
       "      <td>4</td>\n",
       "      <td>8</td>\n",
       "      <td>78</td>\n",
       "      <td>40</td>\n",
       "      <td>{'bytes': b'\\x89PNG\\r\\n\\x1a\\n\\x00\\x00\\x00\\rIHD...</td>\n",
       "    </tr>\n",
       "    <tr>\n",
       "      <th>2</th>\n",
       "      <td>HAL.2017.page_79.pdf_125247.png</td>\n",
       "      <td>test</td>\n",
       "      <td>125247</td>\n",
       "      <td>ftn</td>\n",
       "      <td>[[{'tokens': [], 'bbox': [ -1   6 120  16   1]...</td>\n",
       "      <td>[ecel, fcel, fcel, nl, fcel, fcel, fcel, nl, f...</td>\n",
       "      <td>[&lt;tr&gt;, &lt;td&gt;, &lt;/td&gt;, &lt;td&gt;, &lt;/td&gt;, &lt;td&gt;, &lt;/td&gt;, ...</td>\n",
       "      <td>[&lt;tr&gt;, &lt;td&gt;, &lt;/td&gt;, &lt;td&gt;, &lt;/td&gt;, &lt;td&gt;, &lt;/td&gt;, ...</td>\n",
       "      <td>3</td>\n",
       "      <td>3</td>\n",
       "      <td>24</td>\n",
       "      <td>12</td>\n",
       "      <td>{'bytes': b'\\x89PNG\\r\\n\\x1a\\n\\x00\\x00\\x00\\rIHD...</td>\n",
       "    </tr>\n",
       "    <tr>\n",
       "      <th>3</th>\n",
       "      <td>HAL.2005.page_92.pdf_125215.png</td>\n",
       "      <td>test</td>\n",
       "      <td>125215</td>\n",
       "      <td>ftn</td>\n",
       "      <td>[[{'tokens': ['D' 'u' 'e'], 'bbox': [ 8  8 20 ...</td>\n",
       "      <td>[fcel, fcel, fcel, nl, fcel, fcel, fcel, nl, f...</td>\n",
       "      <td>[&lt;tr&gt;, &lt;td&gt;, &lt;/td&gt;, &lt;td&gt;, &lt;/td&gt;, &lt;td&gt;, &lt;/td&gt;, ...</td>\n",
       "      <td>[&lt;tr&gt;, &lt;td&gt;, &lt;/td&gt;, &lt;td&gt;, &lt;/td&gt;, &lt;td&gt;, &lt;/td&gt;, ...</td>\n",
       "      <td>3</td>\n",
       "      <td>5</td>\n",
       "      <td>40</td>\n",
       "      <td>20</td>\n",
       "      <td>{'bytes': b'\\x89PNG\\r\\n\\x1a\\n\\x00\\x00\\x00\\rIHD...</td>\n",
       "    </tr>\n",
       "    <tr>\n",
       "      <th>4</th>\n",
       "      <td>HAL.2014.page_40.pdf_125088.png</td>\n",
       "      <td>test</td>\n",
       "      <td>125088</td>\n",
       "      <td>ftn</td>\n",
       "      <td>[[{'tokens': [], 'bbox': [ -1   3 118  13   1]...</td>\n",
       "      <td>[ecel, fcel, lcel, lcel, lcel, lcel, ecel, ece...</td>\n",
       "      <td>[&lt;tr&gt;, &lt;td&gt;, &lt;/td&gt;, &lt;td,  colspan=\"5\", &gt;, &lt;/td...</td>\n",
       "      <td>[&lt;tr&gt;, &lt;td&gt;, &lt;/td&gt;, &lt;td,  colspan=\"5\", &gt;, &lt;/td...</td>\n",
       "      <td>8</td>\n",
       "      <td>8</td>\n",
       "      <td>138</td>\n",
       "      <td>72</td>\n",
       "      <td>{'bytes': b'\\x89PNG\\r\\n\\x1a\\n\\x00\\x00\\x00\\rIHD...</td>\n",
       "    </tr>\n",
       "  </tbody>\n",
       "</table>\n",
       "</div>"
      ],
      "text/plain": [
       "                          filename split   imgid dataset  \\\n",
       "0  HAL.2015.page_43.pdf_125177.png  test  125177     ftn   \n",
       "1  HAL.2009.page_77.pdf_125051.png  test  125051     ftn   \n",
       "2  HAL.2017.page_79.pdf_125247.png  test  125247     ftn   \n",
       "3  HAL.2005.page_92.pdf_125215.png  test  125215     ftn   \n",
       "4  HAL.2014.page_40.pdf_125088.png  test  125088     ftn   \n",
       "\n",
       "                                               cells  \\\n",
       "0  [[{'tokens': ['L' 'a' 'n' 'd' ' ' 'v' 's' '.' ...   \n",
       "1  [[{'tokens': [], 'bbox': [ -1   3 110  13   1]...   \n",
       "2  [[{'tokens': [], 'bbox': [ -1   6 120  16   1]...   \n",
       "3  [[{'tokens': ['D' 'u' 'e'], 'bbox': [ 8  8 20 ...   \n",
       "4  [[{'tokens': [], 'bbox': [ -1   3 118  13   1]...   \n",
       "\n",
       "                                                otsl  \\\n",
       "0  [fcel, fcel, fcel, fcel, nl, fcel, ecel, ecel,...   \n",
       "1  [ecel, fcel, lcel, lcel, nl, fcel, fcel, fcel,...   \n",
       "2  [ecel, fcel, fcel, nl, fcel, fcel, fcel, nl, f...   \n",
       "3  [fcel, fcel, fcel, nl, fcel, fcel, fcel, nl, f...   \n",
       "4  [ecel, fcel, lcel, lcel, lcel, lcel, ecel, ece...   \n",
       "\n",
       "                                                html  \\\n",
       "0  [<tr>, <td>, </td>, <td>, </td>, <td>, </td>, ...   \n",
       "1  [<tr>, <td>, </td>, <td,  colspan=\"3\", >, </td...   \n",
       "2  [<tr>, <td>, </td>, <td>, </td>, <td>, </td>, ...   \n",
       "3  [<tr>, <td>, </td>, <td>, </td>, <td>, </td>, ...   \n",
       "4  [<tr>, <td>, </td>, <td,  colspan=\"5\", >, </td...   \n",
       "\n",
       "                                       html_restored  cols  rows  html_len  \\\n",
       "0  [<tr>, <td>, </td>, <td>, </td>, <td>, </td>, ...     4    32       320   \n",
       "1  [<tr>, <td>, </td>, <td,  colspan=\"3\", >, </td...     4     8        78   \n",
       "2  [<tr>, <td>, </td>, <td>, </td>, <td>, </td>, ...     3     3        24   \n",
       "3  [<tr>, <td>, </td>, <td>, </td>, <td>, </td>, ...     3     5        40   \n",
       "4  [<tr>, <td>, </td>, <td,  colspan=\"5\", >, </td...     8     8       138   \n",
       "\n",
       "   otsl_len                                              image  \n",
       "0       160  {'bytes': b'\\x89PNG\\r\\n\\x1a\\n\\x00\\x00\\x00\\rIHD...  \n",
       "1        40  {'bytes': b'\\x89PNG\\r\\n\\x1a\\n\\x00\\x00\\x00\\rIHD...  \n",
       "2        12  {'bytes': b'\\x89PNG\\r\\n\\x1a\\n\\x00\\x00\\x00\\rIHD...  \n",
       "3        20  {'bytes': b'\\x89PNG\\r\\n\\x1a\\n\\x00\\x00\\x00\\rIHD...  \n",
       "4        72  {'bytes': b'\\x89PNG\\r\\n\\x1a\\n\\x00\\x00\\x00\\rIHD...  "
      ]
     },
     "execution_count": 19,
     "metadata": {},
     "output_type": "execute_result"
    }
   ],
   "source": [
    "df.head()"
   ]
  },
  {
   "cell_type": "code",
   "execution_count": null,
   "metadata": {},
   "outputs": [],
   "source": []
  }
 ],
 "metadata": {
  "kernelspec": {
   "display_name": ".venv",
   "language": "python",
   "name": "python3"
  },
  "language_info": {
   "codemirror_mode": {
    "name": "ipython",
    "version": 3
   },
   "file_extension": ".py",
   "mimetype": "text/x-python",
   "name": "python",
   "nbconvert_exporter": "python",
   "pygments_lexer": "ipython3",
   "version": "3.10.4"
  }
 },
 "nbformat": 4,
 "nbformat_minor": 2
}
